{
 "cells": [
  {
   "cell_type": "markdown",
   "metadata": {},
   "source": [
    "**Exercise 0**"
   ]
  },
  {
   "cell_type": "code",
   "execution_count": 5,
   "metadata": {},
   "outputs": [
    {
     "name": "stdout",
     "output_type": "stream",
     "text": [
      "source: /Users/john.sandsjo/Documents/github/data-platform-dev-john-sandsjo-de24/video_lectures/03_pandas_repitition/data/titanic.csv\n",
      "destination: /Users/john.sandsjo/Documents/github/data-platform-dev-john-sandsjo-de24/video_lectures/03_pandas_repitition/data/titanic.csv\n"
     ]
    }
   ],
   "source": [
    "from pathlib import Path\n",
    "\n",
    "#Check if file exists\n",
    "\n",
    "input_source = Path(input(\"provide file path\"))\n",
    "if input_source.exists():\n",
    "    print(f\"source: {input_source}\")\n",
    "else:\n",
    "    print(f\"source with input: {input_source} does not exist\")\n",
    "\n",
    "input_destination = Path(input(\"provide file path destination\"))\n",
    "if input_destination.exists():\n",
    "    print(f\"destination: {input_source}\")\n",
    "else:\n",
    "    print(f\"destination: {input_source} does not exist\")"
   ]
  },
  {
   "cell_type": "markdown",
   "metadata": {},
   "source": [
    "**Exercise 1**"
   ]
  },
  {
   "cell_type": "code",
   "execution_count": 11,
   "metadata": {},
   "outputs": [
    {
     "data": {
      "text/plain": [
       "int"
      ]
     },
     "execution_count": 11,
     "metadata": {},
     "output_type": "execute_result"
    }
   ],
   "source": [
    "#b) Validate that the id is integer, name is string, is_active is boolean and age is integer. \n",
    "# It should return true if valid and false if not valid.\n",
    "\n",
    "schema = {\n",
    "    \"id\": int,\n",
    "    \"name\" : str,\n",
    "    \"is_active\" : bool,\n",
    "    \"age\" : int\n",
    "}"
   ]
  },
  {
   "cell_type": "code",
   "execution_count": 45,
   "metadata": {},
   "outputs": [],
   "source": [
    "data = {\n",
    "    \"id\" : 101,\n",
    "    \"name\" : \"Erika\",\n",
    "    \"is_active\"\t: True,\n",
    "    \"age\" : 45\n",
    "}"
   ]
  },
  {
   "cell_type": "code",
   "execution_count": 41,
   "metadata": {},
   "outputs": [],
   "source": [
    "schema = {\n",
    "        \"id\": int,\n",
    "        \"name\" : str,\n",
    "        \"is_active\" : bool,\n",
    "        \"age\" : int\n",
    "    }"
   ]
  },
  {
   "cell_type": "code",
   "execution_count": 43,
   "metadata": {},
   "outputs": [],
   "source": [
    "def validate_schema(data, schema):\n",
    "    for key, expected_type in schema.items():\n",
    "        if key not in data:\n",
    "            return False  # Key missing in data\n",
    "        if not isinstance(data[key], expected_type):\n",
    "            return False  # Data type mismatch\n",
    "        return True"
   ]
  },
  {
   "cell_type": "code",
   "execution_count": 46,
   "metadata": {},
   "outputs": [
    {
     "name": "stdout",
     "output_type": "stream",
     "text": [
      "Data is valid.\n"
     ]
    }
   ],
   "source": [
    "if validate_schema(data, schema):\n",
    "    print(\"Data is valid.\")\n",
    "else:\n",
    "    print(\"Data is invalid.\")"
   ]
  },
  {
   "cell_type": "code",
   "execution_count": null,
   "metadata": {},
   "outputs": [],
   "source": [
    "new_data = [\n",
    "  {\n",
    "    \"id\": 102,\n",
    "    \"name\": \"Marcus\",\n",
    "    \"is_active\": \"True\",\n",
    "    \"age\": 34\n",
    "  },\n",
    "  {\n",
    "    \"id\": 103,\n",
    "    \"name\": \"David\",\n",
    "    \"is_active\": \"False\",\n",
    "    \"age\": 29\n",
    "  },\n",
    "  {\n",
    "    \"id\": 104,\n",
    "    \"name\": \"Anna\",\n",
    "    \"is_active\": \"True\",\n",
    "    \"age\": 41.5\n",
    "  },\n",
    "  {\n",
    "    \"id\": 106,\n",
    "    \"name\": \"Ingrid\",\n",
    "    \"is_active\": \"NOPE\",\n",
    "    \"age\": 8\n",
    "  }\n",
    "]"
   ]
  },
  {
   "cell_type": "markdown",
   "metadata": {},
   "source": [
    "## Exercise 2"
   ]
  }
 ],
 "metadata": {
  "kernelspec": {
   "display_name": ".venv",
   "language": "python",
   "name": "python3"
  },
  "language_info": {
   "codemirror_mode": {
    "name": "ipython",
    "version": 3
   },
   "file_extension": ".py",
   "mimetype": "text/x-python",
   "name": "python",
   "nbconvert_exporter": "python",
   "pygments_lexer": "ipython3",
   "version": "3.12.5"
  }
 },
 "nbformat": 4,
 "nbformat_minor": 2
}
