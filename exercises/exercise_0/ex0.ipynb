{
 "cells": [
  {
   "cell_type": "markdown",
   "metadata": {},
   "source": [
    "**Exercise 0**"
   ]
  },
  {
   "cell_type": "code",
   "execution_count": 5,
   "metadata": {},
   "outputs": [
    {
     "name": "stdout",
     "output_type": "stream",
     "text": [
      "source: /Users/john.sandsjo/Documents/github/data-platform-dev-john-sandsjo-de24/video_lectures/03_pandas_repitition/data/titanic.csv\n",
      "destination: /Users/john.sandsjo/Documents/github/data-platform-dev-john-sandsjo-de24/video_lectures/03_pandas_repitition/data/titanic.csv\n"
     ]
    }
   ],
   "source": [
    "from pathlib import Path\n",
    "\n",
    "#Check if file exists\n",
    "\n",
    "input_source = Path(input(\"provide file path\"))\n",
    "if input_source.exists():\n",
    "    print(f\"source: {input_source}\")\n",
    "else:\n",
    "    print(f\"source with input: {input_source} does not exist\")\n",
    "\n",
    "input_destination = Path(input(\"provide file path destination\"))\n",
    "if input_destination.exists():\n",
    "    print(f\"destination: {input_source}\")\n",
    "else:\n",
    "    print(f\"destination: {input_source} does not exist\")"
   ]
  },
  {
   "cell_type": "markdown",
   "metadata": {},
   "source": [
    "**Exercise 1**"
   ]
  },
  {
   "cell_type": "code",
   "execution_count": 11,
   "metadata": {},
   "outputs": [
    {
     "data": {
      "text/plain": [
       "int"
      ]
     },
     "execution_count": 11,
     "metadata": {},
     "output_type": "execute_result"
    }
   ],
   "source": [
    "#b) Validate that the id is integer, name is string, is_active is boolean and age is integer. \n",
    "# It should return true if valid and false if not valid.\n",
    "\n",
    "schema = {\n",
    "    \"id\": int,\n",
    "    \"name\" : str,\n",
    "    \"is_active\" : bool,\n",
    "    \"age\" : int\n",
    "}"
   ]
  },
  {
   "cell_type": "code",
   "execution_count": 45,
   "metadata": {},
   "outputs": [],
   "source": [
    "data = {\n",
    "    \"id\" : 101,\n",
    "    \"name\" : \"Erika\",\n",
    "    \"is_active\"\t: True,\n",
    "    \"age\" : 45\n",
    "}"
   ]
  },
  {
   "cell_type": "code",
   "execution_count": 41,
   "metadata": {},
   "outputs": [],
   "source": [
    "schema = {\n",
    "        \"id\": int,\n",
    "        \"name\" : str,\n",
    "        \"is_active\" : bool,\n",
    "        \"age\" : int\n",
    "    }"
   ]
  },
  {
   "cell_type": "code",
   "execution_count": 43,
   "metadata": {},
   "outputs": [],
   "source": [
    "def validate_schema(data, schema):\n",
    "    for key, expected_type in schema.items():\n",
    "        if key not in data:\n",
    "            return False  # Key missing in data\n",
    "        if not isinstance(data[key], expected_type):\n",
    "            return False  # Data type mismatch\n",
    "        return True"
   ]
  },
  {
   "cell_type": "code",
   "execution_count": 46,
   "metadata": {},
   "outputs": [
    {
     "name": "stdout",
     "output_type": "stream",
     "text": [
      "Data is valid.\n"
     ]
    }
   ],
   "source": [
    "if validate_schema(data, schema):\n",
    "    print(\"Data is valid.\")\n",
    "else:\n",
    "    print(\"Data is invalid.\")"
   ]
  },
  {
   "cell_type": "code",
   "execution_count": null,
   "metadata": {},
   "outputs": [],
   "source": [
    "new_data = [\n",
    "  {\n",
    "    \"id\": 102,\n",
    "    \"name\": \"Marcus\",\n",
    "    \"is_active\": \"True\",\n",
    "    \"age\": 34\n",
    "  },\n",
    "  {\n",
    "    \"id\": 103,\n",
    "    \"name\": \"David\",\n",
    "    \"is_active\": \"False\",\n",
    "    \"age\": 29\n",
    "  },\n",
    "  {\n",
    "    \"id\": 104,\n",
    "    \"name\": \"Anna\",\n",
    "    \"is_active\": \"True\",\n",
    "    \"age\": 41.5\n",
    "  },\n",
    "  {\n",
    "    \"id\": 106,\n",
    "    \"name\": \"Ingrid\",\n",
    "    \"is_active\": \"NOPE\",\n",
    "    \"age\": 8\n",
    "  }\n",
    "]"
   ]
  },
  {
   "cell_type": "markdown",
   "metadata": {},
   "source": [
    "## Exercise 3"
   ]
  },
  {
   "cell_type": "code",
   "execution_count": 54,
   "metadata": {},
   "outputs": [
    {
     "name": "stdout",
     "output_type": "stream",
     "text": [
      "Source: 10.0.0.1 | Destination: 10.0.0.2 | Protocol: TCP | Bytes: 1024\n",
      "Source: 10.0.0.2 | Destination: 10.0.0.3 | Protocol: UDP | Bytes: 2048\n",
      "Source: 10.0.0.3 | Destination: 10.0.0.1 | Protocol: TCP | Bytes: 512\n",
      "\n",
      "Data Transfer Summary:\n",
      "TCP: 1536 bytes\n",
      "UDP: 2048 bytes\n",
      "\n"
     ]
    }
   ],
   "source": [
    "with open('data/network.log', 'r') as file:\n",
    "    bytes_tcp = 0\n",
    "    bytes_udp = 0\n",
    "    for line in file:\n",
    "        print('|'.join(line.split(\"|\")[1:5]).strip())\n",
    "        if line.split(\"| Protocol:\")[1][:4].strip() == \"TCP\":\n",
    "            bytes_tcp += int(line.split(\"| Bytes:\")[1])\n",
    "        else:\n",
    "            bytes_udp += int(line.split(\"| Bytes:\")[1])\n",
    "    \n",
    "print(f\"\"\"\n",
    "Data Transfer Summary:\n",
    "TCP: {bytes_tcp} bytes\n",
    "UDP: {bytes_udp} bytes\n",
    "\"\"\")"
   ]
  },
  {
   "cell_type": "markdown",
   "metadata": {},
   "source": [
    "## Exercise 4"
   ]
  },
  {
   "cell_type": "code",
   "execution_count": 62,
   "metadata": {},
   "outputs": [
    {
     "data": {
      "text/plain": [
       "[{'name': 'Alice', 'paid': 100},\n",
       " {'name': 'Bob', 'paid': 200},\n",
       " {'name': 'Alice', 'paid': 150},\n",
       " {'name': 'Erik', 'paid': 180},\n",
       " {'name': 'Maja', 'paid': 220},\n",
       " {'name': 'Bob', 'paid': 180},\n",
       " {'name': 'Alice', 'paid': 130},\n",
       " {'name': 'Oskar', 'paid': 140},\n",
       " {'name': 'Elsa', 'paid': 170},\n",
       " {'name': 'Maja', 'paid': 250},\n",
       " {'name': 'Liam', 'paid': 210},\n",
       " {'name': 'Alice', 'paid': 190},\n",
       " {'name': 'Astrid', 'paid': 190},\n",
       " {'name': 'Elsa', 'paid': 150},\n",
       " {'name': 'Bob', 'paid': 120},\n",
       " {'name': 'Erik', 'paid': 200},\n",
       " {'name': 'Maja', 'paid': 180},\n",
       " {'name': 'Liam', 'paid': 170},\n",
       " {'name': 'Bob', 'paid': 140},\n",
       " {'name': 'Oskar', 'paid': 160},\n",
       " {'name': 'Freja', 'paid': 240},\n",
       " {'name': 'Hugo', 'paid': 250},\n",
       " {'name': 'Freja', 'paid': 200},\n",
       " {'name': 'Nils', 'paid': 130},\n",
       " {'name': 'Freja', 'paid': 180},\n",
       " {'name': 'Wilma', 'paid': 200},\n",
       " {'name': 'Alexander', 'paid': 260},\n",
       " {'name': 'Clara', 'paid': 280},\n",
       " {'name': 'Alice', 'paid': 175},\n",
       " {'name': 'Selma', 'paid': 175},\n",
       " {'name': 'Erik', 'paid': 190},\n",
       " {'name': 'Elias', 'paid': 190}]"
      ]
     },
     "execution_count": 62,
     "metadata": {},
     "output_type": "execute_result"
    }
   ],
   "source": [
    "#a) Read in the file paid.json inside of the data folder. Hint: use load() function from the json library.\n",
    "import json\n",
    "import pandas as pd\n",
    "with open(\"data/paid.json\", \"r\") as file:\n",
    "    data = json.load(file)\n",
    "data"
   ]
  },
  {
   "cell_type": "code",
   "execution_count": 75,
   "metadata": {},
   "outputs": [
    {
     "data": {
      "text/html": [
       "<div>\n",
       "<style scoped>\n",
       "    .dataframe tbody tr th:only-of-type {\n",
       "        vertical-align: middle;\n",
       "    }\n",
       "\n",
       "    .dataframe tbody tr th {\n",
       "        vertical-align: top;\n",
       "    }\n",
       "\n",
       "    .dataframe thead th {\n",
       "        text-align: right;\n",
       "    }\n",
       "</style>\n",
       "<table border=\"1\" class=\"dataframe\">\n",
       "  <thead>\n",
       "    <tr style=\"text-align: right;\">\n",
       "      <th></th>\n",
       "      <th>paid</th>\n",
       "    </tr>\n",
       "    <tr>\n",
       "      <th>name</th>\n",
       "      <th></th>\n",
       "    </tr>\n",
       "  </thead>\n",
       "  <tbody>\n",
       "    <tr>\n",
       "      <th>Alice</th>\n",
       "      <td>745</td>\n",
       "    </tr>\n",
       "    <tr>\n",
       "      <th>Maja</th>\n",
       "      <td>650</td>\n",
       "    </tr>\n",
       "    <tr>\n",
       "      <th>Bob</th>\n",
       "      <td>640</td>\n",
       "    </tr>\n",
       "    <tr>\n",
       "      <th>Freja</th>\n",
       "      <td>620</td>\n",
       "    </tr>\n",
       "    <tr>\n",
       "      <th>Erik</th>\n",
       "      <td>570</td>\n",
       "    </tr>\n",
       "    <tr>\n",
       "      <th>Liam</th>\n",
       "      <td>380</td>\n",
       "    </tr>\n",
       "    <tr>\n",
       "      <th>Elsa</th>\n",
       "      <td>320</td>\n",
       "    </tr>\n",
       "    <tr>\n",
       "      <th>Oskar</th>\n",
       "      <td>300</td>\n",
       "    </tr>\n",
       "    <tr>\n",
       "      <th>Clara</th>\n",
       "      <td>280</td>\n",
       "    </tr>\n",
       "    <tr>\n",
       "      <th>Alexander</th>\n",
       "      <td>260</td>\n",
       "    </tr>\n",
       "    <tr>\n",
       "      <th>Hugo</th>\n",
       "      <td>250</td>\n",
       "    </tr>\n",
       "    <tr>\n",
       "      <th>Wilma</th>\n",
       "      <td>200</td>\n",
       "    </tr>\n",
       "    <tr>\n",
       "      <th>Astrid</th>\n",
       "      <td>190</td>\n",
       "    </tr>\n",
       "    <tr>\n",
       "      <th>Elias</th>\n",
       "      <td>190</td>\n",
       "    </tr>\n",
       "    <tr>\n",
       "      <th>Selma</th>\n",
       "      <td>175</td>\n",
       "    </tr>\n",
       "    <tr>\n",
       "      <th>Nils</th>\n",
       "      <td>130</td>\n",
       "    </tr>\n",
       "  </tbody>\n",
       "</table>\n",
       "</div>"
      ],
      "text/plain": [
       "           paid\n",
       "name           \n",
       "Alice       745\n",
       "Maja        650\n",
       "Bob         640\n",
       "Freja       620\n",
       "Erik        570\n",
       "Liam        380\n",
       "Elsa        320\n",
       "Oskar       300\n",
       "Clara       280\n",
       "Alexander   260\n",
       "Hugo        250\n",
       "Wilma       200\n",
       "Astrid      190\n",
       "Elias       190\n",
       "Selma       175\n",
       "Nils        130"
      ]
     },
     "execution_count": 75,
     "metadata": {},
     "output_type": "execute_result"
    }
   ],
   "source": [
    "#b) Now group each name and sum over the total payment. Hint: use defaultdict(int) from collections library\n",
    "from collections import defaultdict\n",
    "df = pd.DataFrame(data)\n",
    "new_df = df.groupby(\"name\").sum(\"paid\").sort_values(\"paid\", ascending=False)\n",
    "new_df"
   ]
  },
  {
   "cell_type": "code",
   "execution_count": 77,
   "metadata": {},
   "outputs": [],
   "source": [
    "#c) Output the result into a new json file called payment_sum.json.\n",
    "new_json = pd.DataFrame.to_json(new_df)\n",
    "with open(\"data/summarised_paid.json\", \"w\") as file:\n",
    "    file.write(new_json)"
   ]
  }
 ],
 "metadata": {
  "kernelspec": {
   "display_name": ".venv",
   "language": "python",
   "name": "python3"
  },
  "language_info": {
   "codemirror_mode": {
    "name": "ipython",
    "version": 3
   },
   "file_extension": ".py",
   "mimetype": "text/x-python",
   "name": "python",
   "nbconvert_exporter": "python",
   "pygments_lexer": "ipython3",
   "version": "3.12.5"
  }
 },
 "nbformat": 4,
 "nbformat_minor": 2
}
