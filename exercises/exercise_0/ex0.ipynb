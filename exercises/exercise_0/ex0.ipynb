{
 "cells": [
  {
   "cell_type": "markdown",
   "metadata": {},
   "source": [
    "**Exercise 0**"
   ]
  },
  {
   "cell_type": "code",
   "execution_count": 2,
   "metadata": {},
   "outputs": [
    {
     "name": "stdout",
     "output_type": "stream",
     "text": [
      "source: /hejsidubw/ *does not exist*\n",
      "destination: odfnaöoiu *does not exist*\n"
     ]
    }
   ],
   "source": [
    "from pathlib import Path\n",
    "input_source = input(\"provide source file input\")\n",
    "input_destination = input(\"provide destination path\")\n",
    "\n",
    "print(f\"source: {input_source} {'*exist*' if Path(input_source).exists() else '*does not exist*'}\")\n",
    "print(f\"destination: {input_destination} {'*exist*' if Path(input_destination).exists() else '*does not exist*'}\")"
   ]
  },
  {
   "cell_type": "markdown",
   "metadata": {},
   "source": [
    "**Exercise 1**"
   ]
  },
  {
   "cell_type": "code",
   "execution_count": null,
   "metadata": {},
   "outputs": [],
   "source": []
  }
 ],
 "metadata": {
  "kernelspec": {
   "display_name": ".venv",
   "language": "python",
   "name": "python3"
  },
  "language_info": {
   "codemirror_mode": {
    "name": "ipython",
    "version": 3
   },
   "file_extension": ".py",
   "mimetype": "text/x-python",
   "name": "python",
   "nbconvert_exporter": "python",
   "pygments_lexer": "ipython3",
   "version": "3.12.5"
  }
 },
 "nbformat": 4,
 "nbformat_minor": 2
}
