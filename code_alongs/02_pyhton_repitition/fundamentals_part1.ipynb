{
 "cells": [
  {
   "cell_type": "markdown",
   "metadata": {},
   "source": [
    "## Code alongs - python fundamentals 1"
   ]
  },
  {
   "cell_type": "code",
   "execution_count": 2,
   "metadata": {},
   "outputs": [
    {
     "name": "stdout",
     "output_type": "stream",
     "text": [
      "I like to eat: apple\n"
     ]
    }
   ],
   "source": [
    "my_fruit = input()\n",
    "\n",
    "print(f\"I like to eat: {my_fruit}\")"
   ]
  },
  {
   "cell_type": "code",
   "execution_count": 6,
   "metadata": {},
   "outputs": [
    {
     "name": "stdout",
     "output_type": "stream",
     "text": [
      "In five years you are 40 age years old\n"
     ]
    }
   ],
   "source": [
    "age = input(\"Give me your age: \")\n",
    "\n",
    "print(f\"In five years you are {age + 5} age years old\")"
   ]
  },
  {
   "cell_type": "code",
   "execution_count": 4,
   "metadata": {},
   "outputs": [
    {
     "data": {
      "text/plain": [
       "('35', str)"
      ]
     },
     "execution_count": 4,
     "metadata": {},
     "output_type": "execute_result"
    }
   ],
   "source": [
    "# tuple\n",
    "# in jupyter notebook: the __repr__ of the object instance is outputted for the last line\n",
    "age, type(age)"
   ]
  },
  {
   "cell_type": "code",
   "execution_count": 7,
   "metadata": {},
   "outputs": [
    {
     "data": {
      "text/plain": [
       "(int, 35, bool)"
      ]
     },
     "execution_count": 7,
     "metadata": {},
     "output_type": "execute_result"
    }
   ],
   "source": [
    "age = 35\n",
    "loves_math = True\n",
    "type(age), age, type(loves_math)"
   ]
  },
  {
   "cell_type": "code",
   "execution_count": 10,
   "metadata": {},
   "outputs": [
    {
     "name": "stdout",
     "output_type": "stream",
     "text": [
      "loves_math = True\n"
     ]
    }
   ],
   "source": [
    "print(f\"{loves_math = }\")"
   ]
  },
  {
   "cell_type": "markdown",
   "metadata": {},
   "source": [
    "## Collections\n",
    "* list\n",
    "* tuples\n",
    "* sets\n",
    "* dictionary"
   ]
  },
  {
   "cell_type": "markdown",
   "metadata": {},
   "source": [
    "### list of one data type only "
   ]
  },
  {
   "cell_type": "code",
   "execution_count": 11,
   "metadata": {},
   "outputs": [
    {
     "data": {
      "text/plain": [
       "['Kokchun', 33, True]"
      ]
     },
     "execution_count": 11,
     "metadata": {},
     "output_type": "execute_result"
    }
   ],
   "source": [
    "# list of one data type only \n",
    "interests = [\"badminton\", \"yoga\", \"math\", \"programming\"]\n",
    "# list of mixed data types\n",
    "person = [\"Kokchun\", 33, True]\n",
    "\n",
    "person"
   ]
  },
  {
   "cell_type": "code",
   "execution_count": 12,
   "metadata": {},
   "outputs": [
    {
     "data": {
      "text/plain": [
       "['badminton', 'yoga', 'math', 'programming']"
      ]
     },
     "execution_count": 12,
     "metadata": {},
     "output_type": "execute_result"
    }
   ],
   "source": [
    "interests"
   ]
  },
  {
   "cell_type": "code",
   "execution_count": 13,
   "metadata": {},
   "outputs": [
    {
     "data": {
      "text/plain": [
       "(list, int)"
      ]
     },
     "execution_count": 13,
     "metadata": {},
     "output_type": "execute_result"
    }
   ],
   "source": [
    "type(person), type(person[1])"
   ]
  },
  {
   "cell_type": "markdown",
   "metadata": {},
   "source": [
    "### Slicing and indexing"
   ]
  },
  {
   "cell_type": "code",
   "execution_count": 14,
   "metadata": {},
   "outputs": [
    {
     "data": {
      "text/plain": [
       "['yoga', 'math']"
      ]
     },
     "execution_count": 14,
     "metadata": {},
     "output_type": "execute_result"
    }
   ],
   "source": [
    "interests[1:3]"
   ]
  },
  {
   "cell_type": "code",
   "execution_count": 15,
   "metadata": {},
   "outputs": [
    {
     "data": {
      "text/plain": [
       "('programming', ['programming', 'math', 'yoga', 'badminton'])"
      ]
     },
     "execution_count": 15,
     "metadata": {},
     "output_type": "execute_result"
    }
   ],
   "source": [
    "interests[-1], interests[::-1]"
   ]
  },
  {
   "cell_type": "code",
   "execution_count": 16,
   "metadata": {},
   "outputs": [
    {
     "data": {
      "text/plain": [
       "['Kokchun', 33, True, ['badminton', 'yoga', 'math', 'programming']]"
      ]
     },
     "execution_count": 16,
     "metadata": {},
     "output_type": "execute_result"
    }
   ],
   "source": [
    "person.append(interests)\n",
    "person"
   ]
  },
  {
   "cell_type": "code",
   "execution_count": 18,
   "metadata": {},
   "outputs": [
    {
     "data": {
      "text/plain": [
       "('math', 'htam')"
      ]
     },
     "execution_count": 18,
     "metadata": {},
     "output_type": "execute_result"
    }
   ],
   "source": [
    "person[-1][-2], person[-1][-2][::-1]"
   ]
  },
  {
   "cell_type": "code",
   "execution_count": 21,
   "metadata": {},
   "outputs": [
    {
     "data": {
      "text/plain": [
       "'math'"
      ]
     },
     "execution_count": 21,
     "metadata": {},
     "output_type": "execute_result"
    }
   ],
   "source": [
    "persons_interests = person[-1]\n",
    "persons_interests[-2]"
   ]
  },
  {
   "cell_type": "markdown",
   "metadata": {},
   "source": [
    "## Iterate over lists"
   ]
  },
  {
   "cell_type": "code",
   "execution_count": 22,
   "metadata": {},
   "outputs": [
    {
     "name": "stdout",
     "output_type": "stream",
     "text": [
      "badminton\n",
      "yoga\n",
      "math\n",
      "programming\n",
      "\n",
      "Don't do this\n",
      "badminton\n",
      "yoga\n",
      "math\n",
      "programming\n"
     ]
    }
   ],
   "source": [
    "# pythonic - idomatic python\n",
    "for interest in persons_interests:\n",
    "    print(interest)\n",
    "\n",
    "# java: \n",
    "# for (int i = 0; i < persons_interests.length; i++){\n",
    "#   System.out.println(persons_interests[i])\n",
    "# }\n",
    "print(\"\\nDon't do this\")\n",
    "for i in range(len(persons_interests)):\n",
    "    print(persons_interests[i])"
   ]
  },
  {
   "cell_type": "code",
   "execution_count": 23,
   "metadata": {},
   "outputs": [
    {
     "name": "stdout",
     "output_type": "stream",
     "text": [
      "1 badminton\n",
      "2 yoga\n",
      "3 math\n",
      "4 programming\n"
     ]
    }
   ],
   "source": [
    "# not pythonic\n",
    "for i in range(len(persons_interests)):\n",
    "    print(i+1, persons_interests[i])"
   ]
  },
  {
   "cell_type": "code",
   "execution_count": 25,
   "metadata": {},
   "outputs": [
    {
     "name": "stdout",
     "output_type": "stream",
     "text": [
      "2 badminton\n",
      "3 yoga\n",
      "4 math\n",
      "5 programming\n"
     ]
    }
   ],
   "source": [
    "# pythonic\n",
    "for i, interest in enumerate(persons_interests, 1):\n",
    "    print(i, interest)"
   ]
  },
  {
   "cell_type": "markdown",
   "metadata": {},
   "source": [
    "## List creation\n",
    "\n",
    "* append\n",
    "* list comprehension"
   ]
  },
  {
   "cell_type": "code",
   "execution_count": 28,
   "metadata": {},
   "outputs": [
    {
     "data": {
      "text/plain": [
       "[0, 1, 2, 3, 4, 5, 6, 7, 8, 9]"
      ]
     },
     "execution_count": 28,
     "metadata": {},
     "output_type": "execute_result"
    }
   ],
   "source": [
    "numbers = []\n",
    "\n",
    "for i in range(10):\n",
    "    numbers.append(i)\n",
    "\n",
    "numbers"
   ]
  },
  {
   "cell_type": "code",
   "execution_count": 30,
   "metadata": {},
   "outputs": [
    {
     "data": {
      "text/plain": [
       "[0, 1, 2, 3, 4, 5, 6, 7, 8, 9]"
      ]
     },
     "execution_count": 30,
     "metadata": {},
     "output_type": "execute_result"
    }
   ],
   "source": [
    "numbers = [i for i in range(10)]\n",
    "numbers"
   ]
  },
  {
   "cell_type": "code",
   "execution_count": 31,
   "metadata": {},
   "outputs": [
    {
     "data": {
      "text/plain": [
       "[0, 1, 4, 9, 16, 25, 36, 49, 64, 81]"
      ]
     },
     "execution_count": 31,
     "metadata": {},
     "output_type": "execute_result"
    }
   ],
   "source": [
    "squares = [i**2 for i in numbers]\n",
    "squares"
   ]
  },
  {
   "cell_type": "code",
   "execution_count": null,
   "metadata": {},
   "outputs": [],
   "source": [
    "# i % 2 (the condition) is truthy when i is odd, and falsey when i is even\n",
    "odd_numbers_squared = [i**2 for i in numbers if i % 2]\n",
    "\n",
    "odd_numbers_squared"
   ]
  },
  {
   "cell_type": "markdown",
   "metadata": {},
   "source": [
    "### Dictionary\n",
    "\n",
    "* key: value pairs"
   ]
  },
  {
   "cell_type": "code",
   "execution_count": 32,
   "metadata": {},
   "outputs": [
    {
     "data": {
      "text/plain": [
       "{'python': 40,\n",
       " 'agile': 15,\n",
       " 'sql': 30,\n",
       " 'data_platform': 40,\n",
       " 'data_modeling': 30,\n",
       " 'visualization': 40}"
      ]
     },
     "execution_count": 32,
     "metadata": {},
     "output_type": "execute_result"
    }
   ],
   "source": [
    "courses = {\n",
    "    \"python\": 40,\n",
    "    \"agile\": 15,\n",
    "    \"sql\": 30,\n",
    "    \"data_platform\": 40,\n",
    "    \"data_modeling\": 30,\n",
    "    \"visualization\": 40,\n",
    "}\n",
    "\n",
    "courses"
   ]
  },
  {
   "cell_type": "code",
   "execution_count": 33,
   "metadata": {},
   "outputs": [
    {
     "data": {
      "text/plain": [
       "dict_keys(['python', 'agile', 'sql', 'data_platform', 'data_modeling', 'visualization'])"
      ]
     },
     "execution_count": 33,
     "metadata": {},
     "output_type": "execute_result"
    }
   ],
   "source": [
    "courses.keys()"
   ]
  },
  {
   "cell_type": "code",
   "execution_count": 34,
   "metadata": {},
   "outputs": [
    {
     "data": {
      "text/plain": [
       "dict_values([40, 15, 30, 40, 30, 40])"
      ]
     },
     "execution_count": 34,
     "metadata": {},
     "output_type": "execute_result"
    }
   ],
   "source": [
    "courses.values()"
   ]
  },
  {
   "cell_type": "code",
   "execution_count": 37,
   "metadata": {},
   "outputs": [
    {
     "name": "stdout",
     "output_type": "stream",
     "text": [
      "python 40\n",
      "agile 15\n",
      "sql 30\n",
      "data_platform 40\n",
      "data_modeling 30\n",
      "visualization 40\n"
     ]
    }
   ],
   "source": [
    "for course in courses: \n",
    "    print(course, courses[course])"
   ]
  },
  {
   "cell_type": "code",
   "execution_count": 39,
   "metadata": {},
   "outputs": [
    {
     "name": "stdout",
     "output_type": "stream",
     "text": [
      "Course               Points\n",
      "python               40\n",
      "agile                15\n",
      "sql                  30\n",
      "data_platform        40\n",
      "data_modeling        30\n",
      "visualization        40\n"
     ]
    }
   ],
   "source": [
    "print(f\"{'Course':<20} Points\")\n",
    "for course, points in courses.items():\n",
    "    print(f\"{course:<20} {points}\")"
   ]
  },
  {
   "cell_type": "markdown",
   "metadata": {},
   "source": [
    "## strings"
   ]
  },
  {
   "cell_type": "code",
   "execution_count": 40,
   "metadata": {},
   "outputs": [
    {
     "data": {
      "text/plain": [
       "23"
      ]
     },
     "execution_count": 40,
     "metadata": {},
     "output_type": "execute_result"
    }
   ],
   "source": [
    "ml_term = \"sUperVised   Learning  \"\n",
    "\n",
    "len(ml_term)"
   ]
  },
  {
   "cell_type": "code",
   "execution_count": 56,
   "metadata": {},
   "outputs": [
    {
     "data": {
      "text/plain": [
       "'supervised learning'"
      ]
     },
     "execution_count": 56,
     "metadata": {},
     "output_type": "execute_result"
    }
   ],
   "source": [
    "#ml_term.strip() #remove leading and trailing whitespace\n",
    "#ml_term.split() # splits into a lists at space\n",
    "#ml_term.lower()\n",
    "#\" \".join  Joins them together again at the space \n",
    "#all together\n",
    "\" \".join(ml_term.strip().split()).lower()"
   ]
  }
 ],
 "metadata": {
  "kernelspec": {
   "display_name": ".venv",
   "language": "python",
   "name": "python3"
  },
  "language_info": {
   "codemirror_mode": {
    "name": "ipython",
    "version": 3
   },
   "file_extension": ".py",
   "mimetype": "text/x-python",
   "name": "python",
   "nbconvert_exporter": "python",
   "pygments_lexer": "ipython3",
   "version": "3.12.5"
  }
 },
 "nbformat": 4,
 "nbformat_minor": 2
}
