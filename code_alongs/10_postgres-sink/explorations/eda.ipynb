{
 "cells": [
  {
   "cell_type": "markdown",
   "metadata": {},
   "source": [
    "# EDA coinmarket API"
   ]
  },
  {
   "cell_type": "code",
   "execution_count": null,
   "metadata": {},
   "outputs": [
    {
     "name": "stdout",
     "output_type": "stream",
     "text": [
      "{'data': {'BTC': {'circulating_supply': 19820856,\n",
      "                  'cmc_rank': 1,\n",
      "                  'date_added': '2010-07-13T00:00:00.000Z',\n",
      "                  'id': 1,\n",
      "                  'infinite_supply': False,\n",
      "                  'is_active': 1,\n",
      "                  'is_fiat': 0,\n",
      "                  'last_updated': '2025-02-07T09:27:00.000Z',\n",
      "                  'max_supply': 21000000,\n",
      "                  'name': 'Bitcoin',\n",
      "                  'num_market_pairs': 11928,\n",
      "                  'platform': None,\n",
      "                  'quote': {'USD': {'fully_diluted_market_cap': 2043598507087.1,\n",
      "                                    'last_updated': '2025-02-07T09:27:00.000Z',\n",
      "                                    'market_cap': 1928851034799.449,\n",
      "                                    'market_cap_dominance': 60.7519,\n",
      "                                    'percent_change_1h': 0.51914109,\n",
      "                                    'percent_change_24h': -1.33767627,\n",
      "                                    'percent_change_30d': 1.44251858,\n",
      "                                    'percent_change_60d': -1.3342487,\n",
      "                                    'percent_change_7d': -6.56260974,\n",
      "                                    'percent_change_90d': 27.0952011,\n",
      "                                    'price': 97314.21462319534,\n",
      "                                    'tvl': None,\n",
      "                                    'volume_24h': 48612573066.5995,\n",
      "                                    'volume_change_24h': 7.4501}},\n",
      "                  'self_reported_circulating_supply': None,\n",
      "                  'self_reported_market_cap': None,\n",
      "                  'slug': 'bitcoin',\n",
      "                  'symbol': 'BTC',\n",
      "                  'tags': ['mineable',\n",
      "                           'pow',\n",
      "                           'sha-256',\n",
      "                           'store-of-value',\n",
      "                           'state-channel',\n",
      "                           'coinbase-ventures-portfolio',\n",
      "                           'three-arrows-capital-portfolio',\n",
      "                           'polychain-capital-portfolio',\n",
      "                           'binance-labs-portfolio',\n",
      "                           'blockchain-capital-portfolio',\n",
      "                           'boostvc-portfolio',\n",
      "                           'cms-holdings-portfolio',\n",
      "                           'dcg-portfolio',\n",
      "                           'dragonfly-capital-portfolio',\n",
      "                           'electric-capital-portfolio',\n",
      "                           'fabric-ventures-portfolio',\n",
      "                           'framework-ventures-portfolio',\n",
      "                           'galaxy-digital-portfolio',\n",
      "                           'huobi-capital-portfolio',\n",
      "                           'alameda-research-portfolio',\n",
      "                           'a16z-portfolio',\n",
      "                           '1confirmation-portfolio',\n",
      "                           'winklevoss-capital-portfolio',\n",
      "                           'usv-portfolio',\n",
      "                           'placeholder-ventures-portfolio',\n",
      "                           'pantera-capital-portfolio',\n",
      "                           'multicoin-capital-portfolio',\n",
      "                           'paradigm-portfolio',\n",
      "                           'bitcoin-ecosystem',\n",
      "                           'ftx-bankruptcy-estate',\n",
      "                           '2017-2018-alt-season'],\n",
      "                  'total_supply': 19820856,\n",
      "                  'tvl_ratio': None}},\n",
      " 'status': {'credit_count': 1,\n",
      "            'elapsed': 16,\n",
      "            'error_code': 0,\n",
      "            'error_message': None,\n",
      "            'notice': None,\n",
      "            'timestamp': '2025-02-07T09:29:30.038Z'}}\n"
     ]
    },
    {
     "data": {
      "text/plain": [
       "{'status': {'timestamp': '2025-02-07T09:29:30.038Z',\n",
       "  'error_code': 0,\n",
       "  'error_message': None,\n",
       "  'elapsed': 16,\n",
       "  'credit_count': 1,\n",
       "  'notice': None},\n",
       " 'data': {'BTC': {'id': 1,\n",
       "   'name': 'Bitcoin',\n",
       "   'symbol': 'BTC',\n",
       "   'slug': 'bitcoin',\n",
       "   'num_market_pairs': 11928,\n",
       "   'date_added': '2010-07-13T00:00:00.000Z',\n",
       "   'tags': ['mineable',\n",
       "    'pow',\n",
       "    'sha-256',\n",
       "    'store-of-value',\n",
       "    'state-channel',\n",
       "    'coinbase-ventures-portfolio',\n",
       "    'three-arrows-capital-portfolio',\n",
       "    'polychain-capital-portfolio',\n",
       "    'binance-labs-portfolio',\n",
       "    'blockchain-capital-portfolio',\n",
       "    'boostvc-portfolio',\n",
       "    'cms-holdings-portfolio',\n",
       "    'dcg-portfolio',\n",
       "    'dragonfly-capital-portfolio',\n",
       "    'electric-capital-portfolio',\n",
       "    'fabric-ventures-portfolio',\n",
       "    'framework-ventures-portfolio',\n",
       "    'galaxy-digital-portfolio',\n",
       "    'huobi-capital-portfolio',\n",
       "    'alameda-research-portfolio',\n",
       "    'a16z-portfolio',\n",
       "    '1confirmation-portfolio',\n",
       "    'winklevoss-capital-portfolio',\n",
       "    'usv-portfolio',\n",
       "    'placeholder-ventures-portfolio',\n",
       "    'pantera-capital-portfolio',\n",
       "    'multicoin-capital-portfolio',\n",
       "    'paradigm-portfolio',\n",
       "    'bitcoin-ecosystem',\n",
       "    'ftx-bankruptcy-estate',\n",
       "    '2017-2018-alt-season'],\n",
       "   'max_supply': 21000000,\n",
       "   'circulating_supply': 19820856,\n",
       "   'total_supply': 19820856,\n",
       "   'is_active': 1,\n",
       "   'infinite_supply': False,\n",
       "   'platform': None,\n",
       "   'cmc_rank': 1,\n",
       "   'is_fiat': 0,\n",
       "   'self_reported_circulating_supply': None,\n",
       "   'self_reported_market_cap': None,\n",
       "   'tvl_ratio': None,\n",
       "   'last_updated': '2025-02-07T09:27:00.000Z',\n",
       "   'quote': {'USD': {'price': 97314.21462319534,\n",
       "     'volume_24h': 48612573066.5995,\n",
       "     'volume_change_24h': 7.4501,\n",
       "     'percent_change_1h': 0.51914109,\n",
       "     'percent_change_24h': -1.33767627,\n",
       "     'percent_change_7d': -6.56260974,\n",
       "     'percent_change_30d': 1.44251858,\n",
       "     'percent_change_60d': -1.3342487,\n",
       "     'percent_change_90d': 27.0952011,\n",
       "     'market_cap': 1928851034799.449,\n",
       "     'market_cap_dominance': 60.7519,\n",
       "     'fully_diluted_market_cap': 2043598507087.1,\n",
       "     'tvl': None,\n",
       "     'last_updated': '2025-02-07T09:27:00.000Z'}}}}}"
      ]
     },
     "execution_count": 4,
     "metadata": {},
     "output_type": "execute_result"
    }
   ],
   "source": [
    "from requests import Session\n",
    "from requests.exceptions import ConnectionError, Timeout, TooManyRedirects\n",
    "import json\n",
    "from pprint import pprint\n",
    "from dotenv import load_dotenv\n",
    "import os\n",
    "\n",
    "load_dotenv()\n",
    "\n",
    "API_KEY = os.getenv(\"COINMARKET_API\")\n",
    "\n",
    "API_URL = 'https://pro-api.coinmarketcap.com/v1/cryptocurrency/quotes/latest'\n",
    "\n",
    "target_symbol = 'BTC'\n",
    "\n",
    "parameters = {\n",
    "  'symbol':target_symbol,\n",
    "  'convert':'USD'\n",
    "}\n",
    "headers = {\n",
    "  'Accepts': 'application/json',\n",
    "  'X-CMC_PRO_API_KEY': API_KEY,\n",
    "}\n",
    "\n",
    "session = Session()\n",
    "session.headers.update(headers)\n",
    "\n",
    "try:\n",
    "  response = session.get(API_URL, params=parameters)\n",
    "  data = json.loads(response.text)\n",
    "  pprint(data)\n",
    "except (ConnectionError, Timeout, TooManyRedirects) as e:\n",
    "  print(e)\n",
    "data"
   ]
  },
  {
   "cell_type": "code",
   "execution_count": 5,
   "metadata": {},
   "outputs": [
    {
     "data": {
      "text/plain": [
       "dict_keys(['status', 'data'])"
      ]
     },
     "execution_count": 5,
     "metadata": {},
     "output_type": "execute_result"
    }
   ],
   "source": [
    "data.keys()"
   ]
  },
  {
   "cell_type": "code",
   "execution_count": 6,
   "metadata": {},
   "outputs": [
    {
     "data": {
      "text/plain": [
       "{'BTC': {'id': 1,\n",
       "  'name': 'Bitcoin',\n",
       "  'symbol': 'BTC',\n",
       "  'slug': 'bitcoin',\n",
       "  'num_market_pairs': 11928,\n",
       "  'date_added': '2010-07-13T00:00:00.000Z',\n",
       "  'tags': ['mineable',\n",
       "   'pow',\n",
       "   'sha-256',\n",
       "   'store-of-value',\n",
       "   'state-channel',\n",
       "   'coinbase-ventures-portfolio',\n",
       "   'three-arrows-capital-portfolio',\n",
       "   'polychain-capital-portfolio',\n",
       "   'binance-labs-portfolio',\n",
       "   'blockchain-capital-portfolio',\n",
       "   'boostvc-portfolio',\n",
       "   'cms-holdings-portfolio',\n",
       "   'dcg-portfolio',\n",
       "   'dragonfly-capital-portfolio',\n",
       "   'electric-capital-portfolio',\n",
       "   'fabric-ventures-portfolio',\n",
       "   'framework-ventures-portfolio',\n",
       "   'galaxy-digital-portfolio',\n",
       "   'huobi-capital-portfolio',\n",
       "   'alameda-research-portfolio',\n",
       "   'a16z-portfolio',\n",
       "   '1confirmation-portfolio',\n",
       "   'winklevoss-capital-portfolio',\n",
       "   'usv-portfolio',\n",
       "   'placeholder-ventures-portfolio',\n",
       "   'pantera-capital-portfolio',\n",
       "   'multicoin-capital-portfolio',\n",
       "   'paradigm-portfolio',\n",
       "   'bitcoin-ecosystem',\n",
       "   'ftx-bankruptcy-estate',\n",
       "   '2017-2018-alt-season'],\n",
       "  'max_supply': 21000000,\n",
       "  'circulating_supply': 19820856,\n",
       "  'total_supply': 19820856,\n",
       "  'is_active': 1,\n",
       "  'infinite_supply': False,\n",
       "  'platform': None,\n",
       "  'cmc_rank': 1,\n",
       "  'is_fiat': 0,\n",
       "  'self_reported_circulating_supply': None,\n",
       "  'self_reported_market_cap': None,\n",
       "  'tvl_ratio': None,\n",
       "  'last_updated': '2025-02-07T09:27:00.000Z',\n",
       "  'quote': {'USD': {'price': 97314.21462319534,\n",
       "    'volume_24h': 48612573066.5995,\n",
       "    'volume_change_24h': 7.4501,\n",
       "    'percent_change_1h': 0.51914109,\n",
       "    'percent_change_24h': -1.33767627,\n",
       "    'percent_change_7d': -6.56260974,\n",
       "    'percent_change_30d': 1.44251858,\n",
       "    'percent_change_60d': -1.3342487,\n",
       "    'percent_change_90d': 27.0952011,\n",
       "    'market_cap': 1928851034799.449,\n",
       "    'market_cap_dominance': 60.7519,\n",
       "    'fully_diluted_market_cap': 2043598507087.1,\n",
       "    'tvl': None,\n",
       "    'last_updated': '2025-02-07T09:27:00.000Z'}}}}"
      ]
     },
     "execution_count": 6,
     "metadata": {},
     "output_type": "execute_result"
    }
   ],
   "source": [
    "data[\"data\"]"
   ]
  },
  {
   "cell_type": "code",
   "execution_count": 7,
   "metadata": {},
   "outputs": [
    {
     "data": {
      "text/plain": [
       "dict_keys(['BTC'])"
      ]
     },
     "execution_count": 7,
     "metadata": {},
     "output_type": "execute_result"
    }
   ],
   "source": [
    "data[\"data\"].keys()"
   ]
  },
  {
   "cell_type": "code",
   "execution_count": 8,
   "metadata": {},
   "outputs": [
    {
     "data": {
      "text/plain": [
       "dict_keys(['id', 'name', 'symbol', 'slug', 'num_market_pairs', 'date_added', 'tags', 'max_supply', 'circulating_supply', 'total_supply', 'is_active', 'infinite_supply', 'platform', 'cmc_rank', 'is_fiat', 'self_reported_circulating_supply', 'self_reported_market_cap', 'tvl_ratio', 'last_updated', 'quote'])"
      ]
     },
     "execution_count": 8,
     "metadata": {},
     "output_type": "execute_result"
    }
   ],
   "source": [
    "coin_data = data[\"data\"][\"BTC\"]\n",
    "coin_data.keys()"
   ]
  },
  {
   "cell_type": "code",
   "execution_count": 9,
   "metadata": {},
   "outputs": [
    {
     "data": {
      "text/plain": [
       "('Bitcoin',\n",
       " 'BTC',\n",
       " {'USD': {'price': 97314.21462319534,\n",
       "   'volume_24h': 48612573066.5995,\n",
       "   'volume_change_24h': 7.4501,\n",
       "   'percent_change_1h': 0.51914109,\n",
       "   'percent_change_24h': -1.33767627,\n",
       "   'percent_change_7d': -6.56260974,\n",
       "   'percent_change_30d': 1.44251858,\n",
       "   'percent_change_60d': -1.3342487,\n",
       "   'percent_change_90d': 27.0952011,\n",
       "   'market_cap': 1928851034799.449,\n",
       "   'market_cap_dominance': 60.7519,\n",
       "   'fully_diluted_market_cap': 2043598507087.1,\n",
       "   'tvl': None,\n",
       "   'last_updated': '2025-02-07T09:27:00.000Z'}})"
      ]
     },
     "execution_count": 9,
     "metadata": {},
     "output_type": "execute_result"
    }
   ],
   "source": [
    "coin_data[\"name\"], coin_data[\"symbol\"], coin_data[\"quote\"]"
   ]
  },
  {
   "cell_type": "code",
   "execution_count": 10,
   "metadata": {},
   "outputs": [
    {
     "data": {
      "text/plain": [
       "{'price': 97314.21462319534,\n",
       " 'volume_24h': 48612573066.5995,\n",
       " 'volume_change_24h': 7.4501,\n",
       " 'percent_change_1h': 0.51914109,\n",
       " 'percent_change_24h': -1.33767627,\n",
       " 'percent_change_7d': -6.56260974,\n",
       " 'percent_change_30d': 1.44251858,\n",
       " 'percent_change_60d': -1.3342487,\n",
       " 'percent_change_90d': 27.0952011,\n",
       " 'market_cap': 1928851034799.449,\n",
       " 'market_cap_dominance': 60.7519,\n",
       " 'fully_diluted_market_cap': 2043598507087.1,\n",
       " 'tvl': None,\n",
       " 'last_updated': '2025-02-07T09:27:00.000Z'}"
      ]
     },
     "execution_count": 10,
     "metadata": {},
     "output_type": "execute_result"
    }
   ],
   "source": [
    "quote = coin_data[\"quote\"][\"USD\"]\n",
    "quote"
   ]
  },
  {
   "cell_type": "code",
   "execution_count": 12,
   "metadata": {},
   "outputs": [
    {
     "data": {
      "text/plain": [
       "(97314.21462319534, 48612573066.5995, '2025-02-07T09:27:00.000Z')"
      ]
     },
     "execution_count": 12,
     "metadata": {},
     "output_type": "execute_result"
    }
   ],
   "source": [
    "quote[\"price\"], quote[\"volume_24h\"], quote[\"last_updated\"]"
   ]
  }
 ],
 "metadata": {
  "kernelspec": {
   "display_name": ".venv",
   "language": "python",
   "name": "python3"
  },
  "language_info": {
   "codemirror_mode": {
    "name": "ipython",
    "version": 3
   },
   "file_extension": ".py",
   "mimetype": "text/x-python",
   "name": "python",
   "nbconvert_exporter": "python",
   "pygments_lexer": "ipython3",
   "version": "3.12.5"
  }
 },
 "nbformat": 4,
 "nbformat_minor": 2
}
