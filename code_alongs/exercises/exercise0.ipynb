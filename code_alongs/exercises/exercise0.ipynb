{
 "cells": [
  {
   "cell_type": "markdown",
   "metadata": {},
   "source": [
    "## Exercise 0"
   ]
  },
  {
   "cell_type": "code",
   "execution_count": 1,
   "metadata": {},
   "outputs": [
    {
     "name": "stdout",
     "output_type": "stream",
     "text": [
      "Soruce: /Users/john.sandsjo/Documents/github/data-platform-dev-john-sandsjo-de24/code_alongs/exercises/input_data.csv\n",
      "Destination path: /Users/john.sandsjo/Documents/github/data-platform-dev-john-sandsjo-de24/code_alongs/exercises/output_data.csv\n"
     ]
    }
   ],
   "source": [
    "source_path = input(\"Enter the source path\")\n",
    "destination_path = input(\"Enter your destination path\")\n",
    "\n",
    "#/Users/john.sandsjo/Documents/github/data-platform-dev-john-sandsjo-de24/code_alongs/exercises/input_data.csv\n",
    "#/Users/john.sandsjo/Documents/github/data-platform-dev-john-sandsjo-de24/code_alongs/exercises/output_data.csv\n",
    "\n",
    "print(f\"Soruce: {source_path}\")\n",
    "print(f\"Destination path: {destination_path}\")"
   ]
  },
  {
   "cell_type": "markdown",
   "metadata": {},
   "source": [
    "## Exercise 1 - schema validation"
   ]
  },
  {
   "cell_type": "markdown",
   "metadata": {},
   "source": [
    "**a)**"
   ]
  },
  {
   "cell_type": "code",
   "execution_count": 35,
   "metadata": {},
   "outputs": [
    {
     "data": {
      "text/plain": [
       "{'id': 101, 'name': 'Erika', 'is_active': True, 'age': 45}"
      ]
     },
     "execution_count": 35,
     "metadata": {},
     "output_type": "execute_result"
    }
   ],
   "source": [
    "# schema är att vissa kolumner har vissa datatyper. Detta är inte samma som db (logical grouping of...)\n",
    "record = dict(id=101, name=\"Erika\", is_active=True, age=45)\n",
    "record, type(record)"
   ]
  },
  {
   "cell_type": "code",
   "execution_count": null,
   "metadata": {},
   "outputs": [],
   "source": []
  },
  {
   "cell_type": "markdown",
   "metadata": {},
   "source": [
    "**b)**"
   ]
  },
  {
   "cell_type": "code",
   "execution_count": 11,
   "metadata": {},
   "outputs": [
    {
     "data": {
      "text/plain": [
       "dict_keys(['id', 'name', 'is_active', 'age'])"
      ]
     },
     "execution_count": 11,
     "metadata": {},
     "output_type": "execute_result"
    }
   ],
   "source": [
    "schema = {\n",
    "    \"id\" : int,\n",
    "    \"name\" : str,\n",
    "    \"is_active\" : bool,\n",
    "    \"age\" : int\n",
    "}\n",
    "schema.keys()"
   ]
  },
  {
   "cell_type": "code",
   "execution_count": 6,
   "metadata": {},
   "outputs": [
    {
     "data": {
      "text/plain": [
       "(101, int, True, bool)"
      ]
     },
     "execution_count": 6,
     "metadata": {},
     "output_type": "execute_result"
    }
   ],
   "source": [
    "record[\"id\"], schema[\"id\"], record[\"is_active\"], schema[\"is_active\"]\n",
    "\n",
    "# man kan gör type av record och sätta ==\n",
    "# men finns en bättre"
   ]
  },
  {
   "cell_type": "code",
   "execution_count": 8,
   "metadata": {},
   "outputs": [
    {
     "data": {
      "text/plain": [
       "False"
      ]
     },
     "execution_count": 8,
     "metadata": {},
     "output_type": "execute_result"
    }
   ],
   "source": [
    "# vi använder oss av isinstance. object och en klass\n",
    "isinstance(5,int) #-> true\n",
    "isinstance(5,str) #-> false"
   ]
  },
  {
   "cell_type": "code",
   "execution_count": 20,
   "metadata": {},
   "outputs": [
    {
     "data": {
      "text/plain": [
       "True"
      ]
     },
     "execution_count": 20,
     "metadata": {},
     "output_type": "execute_result"
    }
   ],
   "source": [
    "validation_list = []\n",
    "for key, data_type in schema.items():\n",
    "    #print(record[key], data_type)\n",
    "    validation_list.append(isinstance(record[key], data_type))\n",
    "\n",
    "all(validation_list)"
   ]
  },
  {
   "cell_type": "code",
   "execution_count": 22,
   "metadata": {},
   "outputs": [
    {
     "data": {
      "text/plain": [
       "(False, True)"
      ]
     },
     "execution_count": 22,
     "metadata": {},
     "output_type": "execute_result"
    }
   ],
   "source": [
    "all((True, False)), any((True, False))"
   ]
  },
  {
   "cell_type": "code",
   "execution_count": 25,
   "metadata": {},
   "outputs": [
    {
     "data": {
      "text/plain": [
       "True"
      ]
     },
     "execution_count": 25,
     "metadata": {},
     "output_type": "execute_result"
    }
   ],
   "source": [
    "# alternative with list comprehension\n",
    "all([isinstance(record[key], data_type) for key, data_type in schema.items()])"
   ]
  },
  {
   "cell_type": "markdown",
   "metadata": {},
   "source": [
    "c) The dictionary created can be seen as one row, now lets create more records and store each record (dictionary) in a list.\n",
    "\n",
    "| id  | name   | is_active | age  |\n",
    "| --- | ------ | --------- | ---- |\n",
    "| 102 | Marcus | True      | 34   |\n",
    "| 103 | David  | False     | 29   |\n",
    "| 104 | Anna   | True      | 41.5 |\n",
    "| 106 | Ingrid | NOPE      | 8    |\n",
    "\n",
    "\n",
    "I C använden list comprehension i en funktion som loppar genom."
   ]
  },
  {
   "cell_type": "code",
   "execution_count": 30,
   "metadata": {},
   "outputs": [
    {
     "data": {
      "text/plain": [
       "[{'id': 102, 'name': 'Marcus', 'is_active': True, 'age': 34},\n",
       " {'id': 103, 'name': 'David', 'is_active': True, 'age': 29},\n",
       " {'id': 104, 'name': 'Anna', 'is_active': True, 'age': 41.5},\n",
       " {'id': 106, 'name': 'Ingrid', 'is_active': True, 'age': 8}]"
      ]
     },
     "execution_count": 30,
     "metadata": {},
     "output_type": "execute_result"
    }
   ],
   "source": [
    "#c) The dictionary created can be seen as one row, now lets create more records and store each record (dictionary) in a list.\n",
    "json_data = [\n",
    "    {\"id\": 102, \"name\": \"Marcus\", \"is_active\": True, \"age\": 34},\n",
    "    {\"id\": 103, \"name\": \"David\", \"is_active\": True, \"age\": 29},\n",
    "    {\"id\": 104, \"name\": \"Anna\", \"is_active\": True, \"age\": 41.5},\n",
    "    {\"id\": 106, \"name\": \"Ingrid\", \"is_active\": True, \"age\": 8}\n",
    "]\n",
    "json_data"
   ]
  },
  {
   "cell_type": "code",
   "execution_count": 45,
   "metadata": {},
   "outputs": [
    {
     "name": "stdout",
     "output_type": "stream",
     "text": [
      "Valid schema: {'id': 102, 'name': 'Marcus', 'is_active': True, 'age': 34}\n",
      "Valid schema: {'id': 103, 'name': 'David', 'is_active': True, 'age': 29}\n",
      "Invalid schema for list {'id': 104, 'name': 'Anna', 'is_active': True, 'age': 41.5}\n",
      "Valid schema: {'id': 106, 'name': 'Ingrid', 'is_active': True, 'age': 8}\n"
     ]
    }
   ],
   "source": [
    "def validate_data(list_):\n",
    "    for i in list_:\n",
    "        if not all([isinstance(i[key], data_type) for key, data_type in schema.items()]):\n",
    "            print(f\"Invalid schema for list {i}\")\n",
    "        else:\n",
    "            print(f\"Valid schema: {i}\")\n",
    "\n",
    "\n",
    "validate_data(json_data)"
   ]
  },
  {
   "cell_type": "markdown",
   "metadata": {},
   "source": [
    "***2. Data quality check***"
   ]
  },
  {
   "cell_type": "code",
   "execution_count": 35,
   "metadata": {},
   "outputs": [
    {
     "data": {
      "text/plain": [
       "[0, 1, 2, 3, 4, 5, 6, 7, 8, None]"
      ]
     },
     "execution_count": 35,
     "metadata": {},
     "output_type": "execute_result"
    }
   ],
   "source": [
    "#Create a function that checks a list that it contains exactly ten elements, \n",
    "# and none of them contains None. If they contain None, print out an error message that says that \n",
    "# it is invalid and print out what a valid format should be.\n",
    "\n",
    "example_list = list(range(10))\n",
    "example_list_none = list(range(9)) + [None]\n",
    "example_list_large = list(range(2500))\n",
    "example_list_none"
   ]
  },
  {
   "cell_type": "code",
   "execution_count": 55,
   "metadata": {},
   "outputs": [],
   "source": [
    "def validate_list(list_):\n",
    "    if len(list_) != 10 or None in list_:\n",
    "        raise ValueError(f\"\"\"\n",
    "                         Your list must have 10 elements and not contain None\n",
    "                         Length of your list is {len(list_)}. \n",
    "                         None in list: {None in list_}\n",
    "                         \"\"\")\n",
    "    print(\"Success. Your list is validated\")"
   ]
  },
  {
   "cell_type": "code",
   "execution_count": 56,
   "metadata": {},
   "outputs": [
    {
     "name": "stdout",
     "output_type": "stream",
     "text": [
      "\n",
      "                         Your list must have 10 elements and not contain None\n",
      "                         Length of your list is 10. \n",
      "                         None in list: True\n",
      "                         \n"
     ]
    }
   ],
   "source": [
    "try:\n",
    "    validate_list(example_list_none)\n",
    "except ValueError as err:\n",
    "    print(err)"
   ]
  },
  {
   "cell_type": "code",
   "execution_count": 57,
   "metadata": {},
   "outputs": [
    {
     "name": "stdout",
     "output_type": "stream",
     "text": [
      "\n",
      "                         Your list must have 10 elements and not contain None\n",
      "                         Length of your list is 2500. \n",
      "                         None in list: False\n",
      "                         \n"
     ]
    }
   ],
   "source": [
    "try:\n",
    "    validate_list(example_list_large)\n",
    "except ValueError as err:\n",
    "    print(err)"
   ]
  },
  {
   "cell_type": "code",
   "execution_count": 59,
   "metadata": {},
   "outputs": [
    {
     "name": "stdout",
     "output_type": "stream",
     "text": [
      "Success. Your list is validated\n"
     ]
    }
   ],
   "source": [
    "try:\n",
    "    validate_list(example_list)\n",
    "except ValueError as err:\n",
    "    print(err)"
   ]
  },
  {
   "cell_type": "markdown",
   "metadata": {},
   "source": [
    "***3***"
   ]
  }
 ],
 "metadata": {
  "kernelspec": {
   "display_name": ".venv",
   "language": "python",
   "name": "python3"
  },
  "language_info": {
   "codemirror_mode": {
    "name": "ipython",
    "version": 3
   },
   "file_extension": ".py",
   "mimetype": "text/x-python",
   "name": "python",
   "nbconvert_exporter": "python",
   "pygments_lexer": "ipython3",
   "version": "3.12.5"
  }
 },
 "nbformat": 4,
 "nbformat_minor": 2
}
