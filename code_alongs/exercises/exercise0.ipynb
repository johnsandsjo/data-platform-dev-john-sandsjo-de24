{
 "cells": [
  {
   "cell_type": "markdown",
   "metadata": {},
   "source": [
    "## Exercise 0"
   ]
  },
  {
   "cell_type": "code",
   "execution_count": 1,
   "metadata": {},
   "outputs": [
    {
     "name": "stdout",
     "output_type": "stream",
     "text": [
      "Soruce: /Users/john.sandsjo/Documents/github/data-platform-dev-john-sandsjo-de24/code_alongs/exercises/input_data.csv\n",
      "Destination path: /Users/john.sandsjo/Documents/github/data-platform-dev-john-sandsjo-de24/code_alongs/exercises/output_data.csv\n"
     ]
    }
   ],
   "source": [
    "source_path = input(\"Enter the source path\")\n",
    "destination_path = input(\"Enter your destination path\")\n",
    "\n",
    "#/Users/john.sandsjo/Documents/github/data-platform-dev-john-sandsjo-de24/code_alongs/exercises/input_data.csv\n",
    "#/Users/john.sandsjo/Documents/github/data-platform-dev-john-sandsjo-de24/code_alongs/exercises/output_data.csv\n",
    "\n",
    "print(f\"Soruce: {source_path}\")\n",
    "print(f\"Destination path: {destination_path}\")"
   ]
  }
 ],
 "metadata": {
  "kernelspec": {
   "display_name": ".venv",
   "language": "python",
   "name": "python3"
  },
  "language_info": {
   "codemirror_mode": {
    "name": "ipython",
    "version": 3
   },
   "file_extension": ".py",
   "mimetype": "text/x-python",
   "name": "python",
   "nbconvert_exporter": "python",
   "pygments_lexer": "ipython3",
   "version": "3.12.5"
  }
 },
 "nbformat": 4,
 "nbformat_minor": 2
}
