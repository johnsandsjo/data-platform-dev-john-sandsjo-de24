{
 "cells": [
  {
   "cell_type": "code",
   "execution_count": 5,
   "metadata": {},
   "outputs": [
    {
     "data": {
      "text/html": [
       "<div>\n",
       "<style scoped>\n",
       "    .dataframe tbody tr th:only-of-type {\n",
       "        vertical-align: middle;\n",
       "    }\n",
       "\n",
       "    .dataframe tbody tr th {\n",
       "        vertical-align: top;\n",
       "    }\n",
       "\n",
       "    .dataframe thead th {\n",
       "        text-align: right;\n",
       "    }\n",
       "</style>\n",
       "<table border=\"1\" class=\"dataframe\">\n",
       "  <thead>\n",
       "    <tr style=\"text-align: right;\">\n",
       "      <th></th>\n",
       "      <th>FoodCategory</th>\n",
       "      <th>FoodItem</th>\n",
       "      <th>per100grams</th>\n",
       "      <th>Cals_per100grams</th>\n",
       "      <th>KJ_per100grams</th>\n",
       "    </tr>\n",
       "  </thead>\n",
       "  <tbody>\n",
       "    <tr>\n",
       "      <th>0</th>\n",
       "      <td>CannedFruit</td>\n",
       "      <td>Applesauce</td>\n",
       "      <td>100g</td>\n",
       "      <td>62 cal</td>\n",
       "      <td>260 kJ</td>\n",
       "    </tr>\n",
       "    <tr>\n",
       "      <th>1</th>\n",
       "      <td>CannedFruit</td>\n",
       "      <td>Canned Apricots</td>\n",
       "      <td>100g</td>\n",
       "      <td>48 cal</td>\n",
       "      <td>202 kJ</td>\n",
       "    </tr>\n",
       "    <tr>\n",
       "      <th>2</th>\n",
       "      <td>CannedFruit</td>\n",
       "      <td>Canned Blackberries</td>\n",
       "      <td>100g</td>\n",
       "      <td>92 cal</td>\n",
       "      <td>386 kJ</td>\n",
       "    </tr>\n",
       "    <tr>\n",
       "      <th>3</th>\n",
       "      <td>CannedFruit</td>\n",
       "      <td>Canned Blueberries</td>\n",
       "      <td>100g</td>\n",
       "      <td>88 cal</td>\n",
       "      <td>370 kJ</td>\n",
       "    </tr>\n",
       "    <tr>\n",
       "      <th>4</th>\n",
       "      <td>CannedFruit</td>\n",
       "      <td>Canned Cherries</td>\n",
       "      <td>100g</td>\n",
       "      <td>54 cal</td>\n",
       "      <td>227 kJ</td>\n",
       "    </tr>\n",
       "  </tbody>\n",
       "</table>\n",
       "</div>"
      ],
      "text/plain": [
       "  FoodCategory             FoodItem per100grams Cals_per100grams  \\\n",
       "0  CannedFruit           Applesauce        100g           62 cal   \n",
       "1  CannedFruit      Canned Apricots        100g           48 cal   \n",
       "2  CannedFruit  Canned Blackberries        100g           92 cal   \n",
       "3  CannedFruit   Canned Blueberries        100g           88 cal   \n",
       "4  CannedFruit      Canned Cherries        100g           54 cal   \n",
       "\n",
       "  KJ_per100grams  \n",
       "0         260 kJ  \n",
       "1         202 kJ  \n",
       "2         386 kJ  \n",
       "3         370 kJ  \n",
       "4         227 kJ  "
      ]
     },
     "execution_count": 5,
     "metadata": {},
     "output_type": "execute_result"
    }
   ],
   "source": [
    "import pandas as pd\n",
    "\n",
    "df = pd.read_excel(\"data/calories.xlsx\")\n",
    "df.head()"
   ]
  },
  {
   "cell_type": "code",
   "execution_count": 6,
   "metadata": {},
   "outputs": [
    {
     "data": {
      "text/html": [
       "<div>\n",
       "<style scoped>\n",
       "    .dataframe tbody tr th:only-of-type {\n",
       "        vertical-align: middle;\n",
       "    }\n",
       "\n",
       "    .dataframe tbody tr th {\n",
       "        vertical-align: top;\n",
       "    }\n",
       "\n",
       "    .dataframe thead th {\n",
       "        text-align: right;\n",
       "    }\n",
       "</style>\n",
       "<table border=\"1\" class=\"dataframe\">\n",
       "  <thead>\n",
       "    <tr style=\"text-align: right;\">\n",
       "      <th></th>\n",
       "      <th>FoodCategory</th>\n",
       "      <th>FoodItem</th>\n",
       "      <th>per100grams</th>\n",
       "      <th>Cals_per100grams</th>\n",
       "      <th>KJ_per100grams</th>\n",
       "    </tr>\n",
       "  </thead>\n",
       "  <tbody>\n",
       "    <tr>\n",
       "      <th>count</th>\n",
       "      <td>2225</td>\n",
       "      <td>2225</td>\n",
       "      <td>2225</td>\n",
       "      <td>2225</td>\n",
       "      <td>2225</td>\n",
       "    </tr>\n",
       "    <tr>\n",
       "      <th>unique</th>\n",
       "      <td>44</td>\n",
       "      <td>1993</td>\n",
       "      <td>2</td>\n",
       "      <td>524</td>\n",
       "      <td>524</td>\n",
       "    </tr>\n",
       "    <tr>\n",
       "      <th>top</th>\n",
       "      <td>BakingIngredients</td>\n",
       "      <td>Roast Beef</td>\n",
       "      <td>100g</td>\n",
       "      <td>100 cal</td>\n",
       "      <td>420 kJ</td>\n",
       "    </tr>\n",
       "    <tr>\n",
       "      <th>freq</th>\n",
       "      <td>95</td>\n",
       "      <td>4</td>\n",
       "      <td>1802</td>\n",
       "      <td>26</td>\n",
       "      <td>26</td>\n",
       "    </tr>\n",
       "  </tbody>\n",
       "</table>\n",
       "</div>"
      ],
      "text/plain": [
       "             FoodCategory    FoodItem per100grams Cals_per100grams  \\\n",
       "count                2225        2225        2225             2225   \n",
       "unique                 44        1993           2              524   \n",
       "top     BakingIngredients  Roast Beef        100g          100 cal   \n",
       "freq                   95           4        1802               26   \n",
       "\n",
       "       KJ_per100grams  \n",
       "count            2225  \n",
       "unique            524  \n",
       "top            420 kJ  \n",
       "freq               26  "
      ]
     },
     "execution_count": 6,
     "metadata": {},
     "output_type": "execute_result"
    }
   ],
   "source": [
    "df.describe()"
   ]
  },
  {
   "cell_type": "code",
   "execution_count": 7,
   "metadata": {},
   "outputs": [
    {
     "name": "stdout",
     "output_type": "stream",
     "text": [
      "<class 'pandas.core.frame.DataFrame'>\n",
      "RangeIndex: 2225 entries, 0 to 2224\n",
      "Data columns (total 5 columns):\n",
      " #   Column            Non-Null Count  Dtype \n",
      "---  ------            --------------  ----- \n",
      " 0   FoodCategory      2225 non-null   object\n",
      " 1   FoodItem          2225 non-null   object\n",
      " 2   per100grams       2225 non-null   object\n",
      " 3   Cals_per100grams  2225 non-null   object\n",
      " 4   KJ_per100grams    2225 non-null   object\n",
      "dtypes: object(5)\n",
      "memory usage: 87.0+ KB\n"
     ]
    }
   ],
   "source": [
    "df.info()"
   ]
  },
  {
   "cell_type": "code",
   "execution_count": 8,
   "metadata": {},
   "outputs": [
    {
     "data": {
      "text/plain": [
       "array(['CannedFruit', 'Fruits', 'Tropical&ExoticFruits', 'PotatoProducts',\n",
       "       'Vegetables', 'FastFood', 'Pizza', 'Cheese', 'CreamCheese',\n",
       "       'Milk&DairyProducts', 'SlicedCheese', 'Yogurt', 'Beef&Veal',\n",
       "       'ColdCuts&LunchMeat', 'Meat', 'Offal&Giblets', 'Pork',\n",
       "       'Poultry&Fowl', 'Sausage', 'Venison&Game', 'Cakes&Pies',\n",
       "       'Candy&Sweets', 'IceCream', '(Fruit)Juices',\n",
       "       'AlcoholicDrinks&Beverages', 'Beer',\n",
       "       'Non-AlcoholicDrinks&Beverages', 'Soda&SoftDrinks', 'Wine',\n",
       "       'CerealProducts', 'Oatmeal,Muesli&Cereals', 'Pasta&Noodles',\n",
       "       'Dishes&Meals', 'Soups', 'Legumes', 'Nuts&Seeds', 'Oils&Fats',\n",
       "       'VegetableOils', 'BakingIngredients', 'Fish&Seafood',\n",
       "       'Herbs&Spices', 'Pastries,Breads&Rolls', 'Sauces&Dressings',\n",
       "       'Spreads'], dtype=object)"
      ]
     },
     "execution_count": 8,
     "metadata": {},
     "output_type": "execute_result"
    }
   ],
   "source": [
    "df[\"FoodCategory\"].unique()"
   ]
  },
  {
   "cell_type": "code",
   "execution_count": 9,
   "metadata": {},
   "outputs": [
    {
     "data": {
      "text/plain": [
       "array(['100g', '100ml'], dtype=object)"
      ]
     },
     "execution_count": 9,
     "metadata": {},
     "output_type": "execute_result"
    }
   ],
   "source": [
    "df[\"per100grams\"].unique()"
   ]
  },
  {
   "cell_type": "markdown",
   "metadata": {},
   "source": [
    "#Data Cleaning\n",
    "- type cast objects to int\n",
    "- change column names\n",
    "- convert Cals_per100grams to int\n",
    "- seperate liquids and solids to different dfs"
   ]
  },
  {
   "cell_type": "code",
   "execution_count": 10,
   "metadata": {},
   "outputs": [
    {
     "data": {
      "text/plain": [
       "Index(['FoodCategory', 'FoodItem', 'per100grams', 'Cals_per100grams',\n",
       "       'KJ_per100grams'],\n",
       "      dtype='object')"
      ]
     },
     "execution_count": 10,
     "metadata": {},
     "output_type": "execute_result"
    }
   ],
   "source": [
    "#rename\n",
    "df.columns"
   ]
  },
  {
   "cell_type": "code",
   "execution_count": 11,
   "metadata": {},
   "outputs": [],
   "source": [
    "df = df.rename(\n",
    "    {\"per100gram\": \"per100\", \"Cals_per100grams\": \"Calories\", \"KJ_per100grams\": \"kJ\"}, axis=1\n",
    ")"
   ]
  },
  {
   "cell_type": "code",
   "execution_count": 12,
   "metadata": {},
   "outputs": [
    {
     "data": {
      "text/html": [
       "<div>\n",
       "<style scoped>\n",
       "    .dataframe tbody tr th:only-of-type {\n",
       "        vertical-align: middle;\n",
       "    }\n",
       "\n",
       "    .dataframe tbody tr th {\n",
       "        vertical-align: top;\n",
       "    }\n",
       "\n",
       "    .dataframe thead th {\n",
       "        text-align: right;\n",
       "    }\n",
       "</style>\n",
       "<table border=\"1\" class=\"dataframe\">\n",
       "  <thead>\n",
       "    <tr style=\"text-align: right;\">\n",
       "      <th></th>\n",
       "      <th>FoodCategory</th>\n",
       "      <th>FoodItem</th>\n",
       "      <th>per100grams</th>\n",
       "      <th>Calories</th>\n",
       "      <th>kJ</th>\n",
       "    </tr>\n",
       "  </thead>\n",
       "  <tbody>\n",
       "    <tr>\n",
       "      <th>0</th>\n",
       "      <td>CannedFruit</td>\n",
       "      <td>Applesauce</td>\n",
       "      <td>100g</td>\n",
       "      <td>62 cal</td>\n",
       "      <td>260 kJ</td>\n",
       "    </tr>\n",
       "    <tr>\n",
       "      <th>1</th>\n",
       "      <td>CannedFruit</td>\n",
       "      <td>Canned Apricots</td>\n",
       "      <td>100g</td>\n",
       "      <td>48 cal</td>\n",
       "      <td>202 kJ</td>\n",
       "    </tr>\n",
       "    <tr>\n",
       "      <th>2</th>\n",
       "      <td>CannedFruit</td>\n",
       "      <td>Canned Blackberries</td>\n",
       "      <td>100g</td>\n",
       "      <td>92 cal</td>\n",
       "      <td>386 kJ</td>\n",
       "    </tr>\n",
       "    <tr>\n",
       "      <th>3</th>\n",
       "      <td>CannedFruit</td>\n",
       "      <td>Canned Blueberries</td>\n",
       "      <td>100g</td>\n",
       "      <td>88 cal</td>\n",
       "      <td>370 kJ</td>\n",
       "    </tr>\n",
       "    <tr>\n",
       "      <th>4</th>\n",
       "      <td>CannedFruit</td>\n",
       "      <td>Canned Cherries</td>\n",
       "      <td>100g</td>\n",
       "      <td>54 cal</td>\n",
       "      <td>227 kJ</td>\n",
       "    </tr>\n",
       "  </tbody>\n",
       "</table>\n",
       "</div>"
      ],
      "text/plain": [
       "  FoodCategory             FoodItem per100grams Calories      kJ\n",
       "0  CannedFruit           Applesauce        100g   62 cal  260 kJ\n",
       "1  CannedFruit      Canned Apricots        100g   48 cal  202 kJ\n",
       "2  CannedFruit  Canned Blackberries        100g   92 cal  386 kJ\n",
       "3  CannedFruit   Canned Blueberries        100g   88 cal  370 kJ\n",
       "4  CannedFruit      Canned Cherries        100g   54 cal  227 kJ"
      ]
     },
     "execution_count": 12,
     "metadata": {},
     "output_type": "execute_result"
    }
   ],
   "source": [
    "df.head()"
   ]
  },
  {
   "cell_type": "code",
   "execution_count": 13,
   "metadata": {},
   "outputs": [
    {
     "data": {
      "text/plain": [
       "0        62\n",
       "1        48\n",
       "2        92\n",
       "3        88\n",
       "4        54\n",
       "       ... \n",
       "2220    617\n",
       "2221    233\n",
       "2222    717\n",
       "2223    180\n",
       "2224    286\n",
       "Name: Calories, Length: 2225, dtype: int64"
      ]
     },
     "execution_count": 13,
     "metadata": {},
     "output_type": "execute_result"
    }
   ],
   "source": [
    "df[\"Calories\"].str[:-4].astype(int)"
   ]
  },
  {
   "cell_type": "code",
   "execution_count": 14,
   "metadata": {},
   "outputs": [
    {
     "data": {
      "text/html": [
       "<div>\n",
       "<style scoped>\n",
       "    .dataframe tbody tr th:only-of-type {\n",
       "        vertical-align: middle;\n",
       "    }\n",
       "\n",
       "    .dataframe tbody tr th {\n",
       "        vertical-align: top;\n",
       "    }\n",
       "\n",
       "    .dataframe thead th {\n",
       "        text-align: right;\n",
       "    }\n",
       "</style>\n",
       "<table border=\"1\" class=\"dataframe\">\n",
       "  <thead>\n",
       "    <tr style=\"text-align: right;\">\n",
       "      <th></th>\n",
       "      <th>FoodCategory</th>\n",
       "      <th>FoodItem</th>\n",
       "      <th>per100grams</th>\n",
       "      <th>Calories</th>\n",
       "      <th>kJ</th>\n",
       "    </tr>\n",
       "  </thead>\n",
       "  <tbody>\n",
       "    <tr>\n",
       "      <th>0</th>\n",
       "      <td>CannedFruit</td>\n",
       "      <td>Applesauce</td>\n",
       "      <td>100g</td>\n",
       "      <td>62</td>\n",
       "      <td>260 kJ</td>\n",
       "    </tr>\n",
       "    <tr>\n",
       "      <th>1</th>\n",
       "      <td>CannedFruit</td>\n",
       "      <td>Canned Apricots</td>\n",
       "      <td>100g</td>\n",
       "      <td>48</td>\n",
       "      <td>202 kJ</td>\n",
       "    </tr>\n",
       "    <tr>\n",
       "      <th>2</th>\n",
       "      <td>CannedFruit</td>\n",
       "      <td>Canned Blackberries</td>\n",
       "      <td>100g</td>\n",
       "      <td>92</td>\n",
       "      <td>386 kJ</td>\n",
       "    </tr>\n",
       "    <tr>\n",
       "      <th>3</th>\n",
       "      <td>CannedFruit</td>\n",
       "      <td>Canned Blueberries</td>\n",
       "      <td>100g</td>\n",
       "      <td>88</td>\n",
       "      <td>370 kJ</td>\n",
       "    </tr>\n",
       "    <tr>\n",
       "      <th>4</th>\n",
       "      <td>CannedFruit</td>\n",
       "      <td>Canned Cherries</td>\n",
       "      <td>100g</td>\n",
       "      <td>54</td>\n",
       "      <td>227 kJ</td>\n",
       "    </tr>\n",
       "  </tbody>\n",
       "</table>\n",
       "</div>"
      ],
      "text/plain": [
       "  FoodCategory             FoodItem per100grams  Calories      kJ\n",
       "0  CannedFruit           Applesauce        100g        62  260 kJ\n",
       "1  CannedFruit      Canned Apricots        100g        48  202 kJ\n",
       "2  CannedFruit  Canned Blackberries        100g        92  386 kJ\n",
       "3  CannedFruit   Canned Blueberries        100g        88  370 kJ\n",
       "4  CannedFruit      Canned Cherries        100g        54  227 kJ"
      ]
     },
     "execution_count": 14,
     "metadata": {},
     "output_type": "execute_result"
    }
   ],
   "source": [
    "#reassign here in order to persist the changes\n",
    "df[\"Calories\"] = df[\"Calories\"].str[:-4].astype(int)\n",
    "df.head()"
   ]
  },
  {
   "cell_type": "code",
   "execution_count": 15,
   "metadata": {},
   "outputs": [],
   "source": [
    "#continue with kJ\n",
    "df[\"kJ\"] = df[\"kJ\"].str[:-3].astype(int)"
   ]
  },
  {
   "cell_type": "code",
   "execution_count": 16,
   "metadata": {},
   "outputs": [
    {
     "data": {
      "text/plain": [
       "per100grams\n",
       "100g     1802\n",
       "100ml     423\n",
       "Name: count, dtype: int64"
      ]
     },
     "execution_count": 16,
     "metadata": {},
     "output_type": "execute_result"
    }
   ],
   "source": [
    "#value.counts is equal to a group by and count. aggregation + count of the unique values\n",
    "df[\"per100grams\"].value_counts()"
   ]
  },
  {
   "cell_type": "code",
   "execution_count": 17,
   "metadata": {},
   "outputs": [],
   "source": [
    "#seperate solids and liquids\n",
    "#using a boolean mask. Then do a df of the mask of where it is True.\n",
    "df_liquids = df[df[\"per100grams\"]=='100ml']"
   ]
  },
  {
   "cell_type": "code",
   "execution_count": 18,
   "metadata": {},
   "outputs": [],
   "source": [
    "#Can do the same but also doing it with query syntax\n",
    "df_solids = df.query(\"per100grams == '100g'\")"
   ]
  },
  {
   "cell_type": "code",
   "execution_count": 19,
   "metadata": {},
   "outputs": [
    {
     "data": {
      "text/html": [
       "<div>\n",
       "<style scoped>\n",
       "    .dataframe tbody tr th:only-of-type {\n",
       "        vertical-align: middle;\n",
       "    }\n",
       "\n",
       "    .dataframe tbody tr th {\n",
       "        vertical-align: top;\n",
       "    }\n",
       "\n",
       "    .dataframe thead th {\n",
       "        text-align: right;\n",
       "    }\n",
       "</style>\n",
       "<table border=\"1\" class=\"dataframe\">\n",
       "  <thead>\n",
       "    <tr style=\"text-align: right;\">\n",
       "      <th></th>\n",
       "      <th>FoodCategory</th>\n",
       "      <th>FoodItem</th>\n",
       "      <th>per100grams</th>\n",
       "      <th>Calories</th>\n",
       "      <th>kJ</th>\n",
       "    </tr>\n",
       "  </thead>\n",
       "  <tbody>\n",
       "    <tr>\n",
       "      <th>1621</th>\n",
       "      <td>Soups</td>\n",
       "      <td>Goulash</td>\n",
       "      <td>100g</td>\n",
       "      <td>1009</td>\n",
       "      <td>4238</td>\n",
       "    </tr>\n",
       "    <tr>\n",
       "      <th>1761</th>\n",
       "      <td>Oils&amp;Fats</td>\n",
       "      <td>Lard</td>\n",
       "      <td>100g</td>\n",
       "      <td>902</td>\n",
       "      <td>3788</td>\n",
       "    </tr>\n",
       "    <tr>\n",
       "      <th>528</th>\n",
       "      <td>Beef&amp;Veal</td>\n",
       "      <td>Beef Tallow</td>\n",
       "      <td>100g</td>\n",
       "      <td>902</td>\n",
       "      <td>3788</td>\n",
       "    </tr>\n",
       "    <tr>\n",
       "      <th>1756</th>\n",
       "      <td>Oils&amp;Fats</td>\n",
       "      <td>Goose Fat</td>\n",
       "      <td>100g</td>\n",
       "      <td>898</td>\n",
       "      <td>3772</td>\n",
       "    </tr>\n",
       "    <tr>\n",
       "      <th>599</th>\n",
       "      <td>Meat</td>\n",
       "      <td>Chicken Fat</td>\n",
       "      <td>100g</td>\n",
       "      <td>898</td>\n",
       "      <td>3772</td>\n",
       "    </tr>\n",
       "  </tbody>\n",
       "</table>\n",
       "</div>"
      ],
      "text/plain": [
       "     FoodCategory     FoodItem per100grams  Calories    kJ\n",
       "1621        Soups      Goulash        100g      1009  4238\n",
       "1761    Oils&Fats         Lard        100g       902  3788\n",
       "528     Beef&Veal  Beef Tallow        100g       902  3788\n",
       "1756    Oils&Fats    Goose Fat        100g       898  3772\n",
       "599          Meat  Chicken Fat        100g       898  3772"
      ]
     },
     "execution_count": 19,
     "metadata": {},
     "output_type": "execute_result"
    }
   ],
   "source": [
    "#find out top 5 categories with highest calories\n",
    "#first look at sort values and top 5 items\n",
    "\n",
    "solids_sorted = df_solids.sort_values(by = \"Calories\", ascending=False)\n",
    "solids_sorted.iloc[:5]"
   ]
  },
  {
   "cell_type": "code",
   "execution_count": 20,
   "metadata": {},
   "outputs": [
    {
     "data": {
      "text/html": [
       "<div>\n",
       "<style scoped>\n",
       "    .dataframe tbody tr th:only-of-type {\n",
       "        vertical-align: middle;\n",
       "    }\n",
       "\n",
       "    .dataframe tbody tr th {\n",
       "        vertical-align: top;\n",
       "    }\n",
       "\n",
       "    .dataframe thead th {\n",
       "        text-align: right;\n",
       "    }\n",
       "</style>\n",
       "<table border=\"1\" class=\"dataframe\">\n",
       "  <thead>\n",
       "    <tr style=\"text-align: right;\">\n",
       "      <th></th>\n",
       "      <th>FoodCategory</th>\n",
       "      <th>FoodItem</th>\n",
       "      <th>per100grams</th>\n",
       "      <th>Calories</th>\n",
       "      <th>kJ</th>\n",
       "    </tr>\n",
       "  </thead>\n",
       "  <tbody>\n",
       "    <tr>\n",
       "      <th>1751</th>\n",
       "      <td>Oils&amp;Fats</td>\n",
       "      <td>Cod Liver Oil</td>\n",
       "      <td>100ml</td>\n",
       "      <td>1000</td>\n",
       "      <td>4200</td>\n",
       "    </tr>\n",
       "    <tr>\n",
       "      <th>1808</th>\n",
       "      <td>VegetableOils</td>\n",
       "      <td>Wheat Germ Oil</td>\n",
       "      <td>100ml</td>\n",
       "      <td>929</td>\n",
       "      <td>3902</td>\n",
       "    </tr>\n",
       "    <tr>\n",
       "      <th>1800</th>\n",
       "      <td>VegetableOils</td>\n",
       "      <td>Salmon Oil</td>\n",
       "      <td>100ml</td>\n",
       "      <td>911</td>\n",
       "      <td>3826</td>\n",
       "    </tr>\n",
       "    <tr>\n",
       "      <th>1789</th>\n",
       "      <td>VegetableOils</td>\n",
       "      <td>Menhaden Oil</td>\n",
       "      <td>100ml</td>\n",
       "      <td>911</td>\n",
       "      <td>3826</td>\n",
       "    </tr>\n",
       "    <tr>\n",
       "      <th>1759</th>\n",
       "      <td>Oils&amp;Fats</td>\n",
       "      <td>Herring Oil</td>\n",
       "      <td>100ml</td>\n",
       "      <td>902</td>\n",
       "      <td>3788</td>\n",
       "    </tr>\n",
       "  </tbody>\n",
       "</table>\n",
       "</div>"
      ],
      "text/plain": [
       "       FoodCategory        FoodItem per100grams  Calories    kJ\n",
       "1751      Oils&Fats   Cod Liver Oil       100ml      1000  4200\n",
       "1808  VegetableOils  Wheat Germ Oil       100ml       929  3902\n",
       "1800  VegetableOils      Salmon Oil       100ml       911  3826\n",
       "1789  VegetableOils    Menhaden Oil       100ml       911  3826\n",
       "1759      Oils&Fats     Herring Oil       100ml       902  3788"
      ]
     },
     "execution_count": 20,
     "metadata": {},
     "output_type": "execute_result"
    }
   ],
   "source": [
    "top5_liquids = df_liquids.sort_values(\"Calories\", ascending=False).head()\n",
    "top5_liquids"
   ]
  },
  {
   "cell_type": "code",
   "execution_count": 21,
   "metadata": {},
   "outputs": [
    {
     "data": {
      "text/html": [
       "<div>\n",
       "<style scoped>\n",
       "    .dataframe tbody tr th:only-of-type {\n",
       "        vertical-align: middle;\n",
       "    }\n",
       "\n",
       "    .dataframe tbody tr th {\n",
       "        vertical-align: top;\n",
       "    }\n",
       "\n",
       "    .dataframe thead th {\n",
       "        text-align: right;\n",
       "    }\n",
       "</style>\n",
       "<table border=\"1\" class=\"dataframe\">\n",
       "  <thead>\n",
       "    <tr style=\"text-align: right;\">\n",
       "      <th></th>\n",
       "      <th>FoodCategory</th>\n",
       "      <th>Calories</th>\n",
       "    </tr>\n",
       "  </thead>\n",
       "  <tbody>\n",
       "    <tr>\n",
       "      <th>0</th>\n",
       "      <td>VegetableOils</td>\n",
       "      <td>884.0</td>\n",
       "    </tr>\n",
       "    <tr>\n",
       "      <th>1</th>\n",
       "      <td>Oils&amp;Fats</td>\n",
       "      <td>883.0</td>\n",
       "    </tr>\n",
       "    <tr>\n",
       "      <th>2</th>\n",
       "      <td>Nuts&amp;Seeds</td>\n",
       "      <td>534.0</td>\n",
       "    </tr>\n",
       "    <tr>\n",
       "      <th>3</th>\n",
       "      <td>Candy&amp;Sweets</td>\n",
       "      <td>448.0</td>\n",
       "    </tr>\n",
       "    <tr>\n",
       "      <th>4</th>\n",
       "      <td>Oatmeal,Muesli&amp;Cereals</td>\n",
       "      <td>373.5</td>\n",
       "    </tr>\n",
       "  </tbody>\n",
       "</table>\n",
       "</div>"
      ],
      "text/plain": [
       "             FoodCategory  Calories\n",
       "0           VegetableOils     884.0\n",
       "1               Oils&Fats     883.0\n",
       "2              Nuts&Seeds     534.0\n",
       "3            Candy&Sweets     448.0\n",
       "4  Oatmeal,Muesli&Cereals     373.5"
      ]
     },
     "execution_count": 21,
     "metadata": {},
     "output_type": "execute_result"
    }
   ],
   "source": [
    "#top 5 categories. on entire dataset\n",
    "top5_categories = df.groupby(\"FoodCategory\")[\"Calories\"].median(\"Calories\").sort_values(ascending=False).iloc[:5].reset_index()\n",
    "#reset index is turning this series object into a dataframe again.\n",
    "top5_categories"
   ]
  },
  {
   "cell_type": "code",
   "execution_count": 22,
   "metadata": {},
   "outputs": [
    {
     "data": {
      "text/plain": [
       "[Text(0.5, 1.0, 'top5 categories')]"
      ]
     },
     "execution_count": 22,
     "metadata": {},
     "output_type": "execute_result"
    },
    {
     "data": {
      "image/png": "[encoded data removed]",
      "text/plain": [
       "<Figure size 640x480 with 1 Axes>"
      ]
     },
     "metadata": {},
     "output_type": "display_data"
    }
   ],
   "source": [
    "import matplotlib.pyplot as plt\n",
    "\n",
    "fig, ax = plt.subplots(1)\n",
    "ax.bar(top5_categories[\"FoodCategory\"], top5_categories[\"Calories\"])\n",
    "ax.set(title=\"top5 categories\")"
   ]
  },
  {
   "cell_type": "code",
   "execution_count": 23,
   "metadata": {},
   "outputs": [
    {
     "data": {
      "text/html": [
       "<div>\n",
       "<style scoped>\n",
       "    .dataframe tbody tr th:only-of-type {\n",
       "        vertical-align: middle;\n",
       "    }\n",
       "\n",
       "    .dataframe tbody tr th {\n",
       "        vertical-align: top;\n",
       "    }\n",
       "\n",
       "    .dataframe thead th {\n",
       "        text-align: right;\n",
       "    }\n",
       "</style>\n",
       "<table border=\"1\" class=\"dataframe\">\n",
       "  <thead>\n",
       "    <tr style=\"text-align: right;\">\n",
       "      <th></th>\n",
       "      <th>FoodCategory</th>\n",
       "      <th>FoodItem</th>\n",
       "      <th>per100grams</th>\n",
       "      <th>Calories</th>\n",
       "      <th>kJ</th>\n",
       "    </tr>\n",
       "  </thead>\n",
       "  <tbody>\n",
       "    <tr>\n",
       "      <th>0</th>\n",
       "      <td>CannedFruit</td>\n",
       "      <td>Applesauce</td>\n",
       "      <td>100g</td>\n",
       "      <td>62</td>\n",
       "      <td>260</td>\n",
       "    </tr>\n",
       "    <tr>\n",
       "      <th>1</th>\n",
       "      <td>CannedFruit</td>\n",
       "      <td>Canned Apricots</td>\n",
       "      <td>100g</td>\n",
       "      <td>48</td>\n",
       "      <td>202</td>\n",
       "    </tr>\n",
       "    <tr>\n",
       "      <th>2</th>\n",
       "      <td>CannedFruit</td>\n",
       "      <td>Canned Blackberries</td>\n",
       "      <td>100g</td>\n",
       "      <td>92</td>\n",
       "      <td>386</td>\n",
       "    </tr>\n",
       "    <tr>\n",
       "      <th>3</th>\n",
       "      <td>CannedFruit</td>\n",
       "      <td>Canned Blueberries</td>\n",
       "      <td>100g</td>\n",
       "      <td>88</td>\n",
       "      <td>370</td>\n",
       "    </tr>\n",
       "    <tr>\n",
       "      <th>4</th>\n",
       "      <td>CannedFruit</td>\n",
       "      <td>Canned Cherries</td>\n",
       "      <td>100g</td>\n",
       "      <td>54</td>\n",
       "      <td>227</td>\n",
       "    </tr>\n",
       "    <tr>\n",
       "      <th>...</th>\n",
       "      <td>...</td>\n",
       "      <td>...</td>\n",
       "      <td>...</td>\n",
       "      <td>...</td>\n",
       "      <td>...</td>\n",
       "    </tr>\n",
       "    <tr>\n",
       "      <th>2220</th>\n",
       "      <td>Spreads</td>\n",
       "      <td>Sunflower Butter</td>\n",
       "      <td>100g</td>\n",
       "      <td>617</td>\n",
       "      <td>2591</td>\n",
       "    </tr>\n",
       "    <tr>\n",
       "      <th>2221</th>\n",
       "      <td>Spreads</td>\n",
       "      <td>Tapenade</td>\n",
       "      <td>100g</td>\n",
       "      <td>233</td>\n",
       "      <td>979</td>\n",
       "    </tr>\n",
       "    <tr>\n",
       "      <th>2222</th>\n",
       "      <td>Spreads</td>\n",
       "      <td>Unsalted Butter</td>\n",
       "      <td>100g</td>\n",
       "      <td>717</td>\n",
       "      <td>3011</td>\n",
       "    </tr>\n",
       "    <tr>\n",
       "      <th>2223</th>\n",
       "      <td>Spreads</td>\n",
       "      <td>Vegemite</td>\n",
       "      <td>100g</td>\n",
       "      <td>180</td>\n",
       "      <td>756</td>\n",
       "    </tr>\n",
       "    <tr>\n",
       "      <th>2224</th>\n",
       "      <td>Spreads</td>\n",
       "      <td>Wild Honey</td>\n",
       "      <td>100g</td>\n",
       "      <td>286</td>\n",
       "      <td>1201</td>\n",
       "    </tr>\n",
       "  </tbody>\n",
       "</table>\n",
       "<p>2225 rows × 5 columns</p>\n",
       "</div>"
      ],
      "text/plain": [
       "     FoodCategory             FoodItem per100grams  Calories    kJ\n",
       "0     CannedFruit           Applesauce        100g        62   260\n",
       "1     CannedFruit      Canned Apricots        100g        48   202\n",
       "2     CannedFruit  Canned Blackberries        100g        92   386\n",
       "3     CannedFruit   Canned Blueberries        100g        88   370\n",
       "4     CannedFruit      Canned Cherries        100g        54   227\n",
       "...           ...                  ...         ...       ...   ...\n",
       "2220      Spreads     Sunflower Butter        100g       617  2591\n",
       "2221      Spreads             Tapenade        100g       233   979\n",
       "2222      Spreads      Unsalted Butter        100g       717  3011\n",
       "2223      Spreads             Vegemite        100g       180   756\n",
       "2224      Spreads           Wild Honey        100g       286  1201\n",
       "\n",
       "[2225 rows x 5 columns]"
      ]
     },
     "execution_count": 23,
     "metadata": {},
     "output_type": "execute_result"
    }
   ],
   "source": [
    "df"
   ]
  },
  {
   "cell_type": "code",
   "execution_count": 24,
   "metadata": {},
   "outputs": [
    {
     "data": {
      "text/html": [
       "<div>\n",
       "<style scoped>\n",
       "    .dataframe tbody tr th:only-of-type {\n",
       "        vertical-align: middle;\n",
       "    }\n",
       "\n",
       "    .dataframe tbody tr th {\n",
       "        vertical-align: top;\n",
       "    }\n",
       "\n",
       "    .dataframe thead th {\n",
       "        text-align: right;\n",
       "    }\n",
       "</style>\n",
       "<table border=\"1\" class=\"dataframe\">\n",
       "  <thead>\n",
       "    <tr style=\"text-align: right;\">\n",
       "      <th></th>\n",
       "      <th>FoodCategory</th>\n",
       "      <th>median</th>\n",
       "    </tr>\n",
       "  </thead>\n",
       "  <tbody>\n",
       "    <tr>\n",
       "      <th>0</th>\n",
       "      <td>VegetableOils</td>\n",
       "      <td>884.0</td>\n",
       "    </tr>\n",
       "    <tr>\n",
       "      <th>1</th>\n",
       "      <td>Oils&amp;Fats</td>\n",
       "      <td>883.0</td>\n",
       "    </tr>\n",
       "    <tr>\n",
       "      <th>2</th>\n",
       "      <td>Nuts&amp;Seeds</td>\n",
       "      <td>534.0</td>\n",
       "    </tr>\n",
       "    <tr>\n",
       "      <th>3</th>\n",
       "      <td>Candy&amp;Sweets</td>\n",
       "      <td>448.0</td>\n",
       "    </tr>\n",
       "    <tr>\n",
       "      <th>4</th>\n",
       "      <td>Oatmeal,Muesli&amp;Cereals</td>\n",
       "      <td>373.5</td>\n",
       "    </tr>\n",
       "  </tbody>\n",
       "</table>\n",
       "</div>"
      ],
      "text/plain": [
       "             FoodCategory  median\n",
       "0           VegetableOils   884.0\n",
       "1               Oils&Fats   883.0\n",
       "2              Nuts&Seeds   534.0\n",
       "3            Candy&Sweets   448.0\n",
       "4  Oatmeal,Muesli&Cereals   373.5"
      ]
     },
     "execution_count": 24,
     "metadata": {},
     "output_type": "execute_result"
    }
   ],
   "source": [
    "import duckdb\n",
    "duckdb.query(\n",
    "    \"\"\"\n",
    "    SELECT FoodCategory, median(Calories) as median FROM df GROUP BY FoodCategory ORDER BY median DESC LIMIT 5\n",
    "    \"\"\"\n",
    ").df()"
   ]
  }
 ],
 "metadata": {
  "kernelspec": {
   "display_name": ".venv",
   "language": "python",
   "name": "python3"
  },
  "language_info": {
   "codemirror_mode": {
    "name": "ipython",
    "version": 3
   },
   "file_extension": ".py",
   "mimetype": "text/x-python",
   "name": "python",
   "nbconvert_exporter": "python",
   "pygments_lexer": "ipython3",
   "version": "3.12.5"
  }
 },
 "nbformat": 4,
 "nbformat_minor": 2
}
