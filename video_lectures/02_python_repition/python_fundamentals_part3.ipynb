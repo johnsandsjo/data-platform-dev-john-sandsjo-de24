{
 "cells": [
  {
   "cell_type": "markdown",
   "metadata": {},
   "source": [
    "# Python fundamentals OOP\n",
    "part 3"
   ]
  },
  {
   "cell_type": "code",
   "execution_count": 1,
   "metadata": {},
   "outputs": [
    {
     "data": {
      "text/plain": [
       "<__main__.Admission at 0x107d60b90>"
      ]
     },
     "execution_count": 1,
     "metadata": {},
     "output_type": "execute_result"
    }
   ],
   "source": [
    "class Admission:\n",
    "    def __init__(self, school, program, name, accept):\n",
    "        self.school = school\n",
    "        self.progam = program\n",
    "        self.name = name\n",
    "        self.accept = accept\n",
    "\n",
    "student1 = Admission(\"Cool School\", \"AI\", accept=True, name = \"John\")\n",
    "student1"
   ]
  },
  {
   "cell_type": "code",
   "execution_count": 5,
   "metadata": {},
   "outputs": [
    {
     "data": {
      "text/plain": [
       "<__main__.Admission at 0x107d97110>"
      ]
     },
     "execution_count": 5,
     "metadata": {},
     "output_type": "execute_result"
    }
   ],
   "source": [
    "student2 = Admission(\"Cooler School\", \"Data Science\", accept = False, name = \"Gore Bord\")\n",
    "student2"
   ]
  },
  {
   "cell_type": "code",
   "execution_count": 4,
   "metadata": {},
   "outputs": [
    {
     "data": {
      "text/plain": [
       "('AI', 'John', True)"
      ]
     },
     "execution_count": 4,
     "metadata": {},
     "output_type": "execute_result"
    }
   ],
   "source": [
    "student1.progam, student1.name, student1.accept"
   ]
  },
  {
   "cell_type": "code",
   "execution_count": 6,
   "metadata": {},
   "outputs": [
    {
     "data": {
      "text/plain": [
       "('Gore Bord', False)"
      ]
     },
     "execution_count": 6,
     "metadata": {},
     "output_type": "execute_result"
    }
   ],
   "source": [
    "student2.name, student2.accept"
   ]
  },
  {
   "cell_type": "code",
   "execution_count": 7,
   "metadata": {},
   "outputs": [
    {
     "data": {
      "text/plain": [
       "'UX'"
      ]
     },
     "execution_count": 7,
     "metadata": {},
     "output_type": "execute_result"
    }
   ],
   "source": [
    "student2.progam= \"UX\"\n",
    "student2.progam"
   ]
  },
  {
   "cell_type": "code",
   "execution_count": 8,
   "metadata": {},
   "outputs": [
    {
     "data": {
      "text/plain": [
       "('0x107d60b90', '0x107d97110')"
      ]
     },
     "execution_count": 8,
     "metadata": {},
     "output_type": "execute_result"
    }
   ],
   "source": [
    "hex(id(student1)), hex(id(student2))"
   ]
  },
  {
   "cell_type": "markdown",
   "metadata": {},
   "source": [
    "### \\_\\_repr\\_\\_\n",
    "* \"dunder repper\"\n",
    "* method for representing an object or an instance"
   ]
  },
  {
   "cell_type": "code",
   "execution_count": 17,
   "metadata": {},
   "outputs": [
    {
     "data": {
      "text/plain": [
       "Admission(school='Cool School', program='Haskell', name='Ada Lovelace', accept=True"
      ]
     },
     "execution_count": 17,
     "metadata": {},
     "output_type": "execute_result"
    }
   ],
   "source": [
    "class Admission:\n",
    "    def __init__(self, school, program, name, accept):\n",
    "        self.school = school\n",
    "        self.program = program\n",
    "        self.name = name\n",
    "        self.accept = accept\n",
    "    \n",
    "    def __repr__(self):\n",
    "        #repr is to show how to use this class\n",
    "        return f\"Admission(school='{self.school}', program='{self.program}', name='{self.name}', accept={self.accept}\"\n",
    "\n",
    "student3 = Admission(\"Cool School\", \"Haskell\", \"Ada Lovelace\", True)\n",
    "student3"
   ]
  },
  {
   "cell_type": "code",
   "execution_count": 18,
   "metadata": {},
   "outputs": [
    {
     "data": {
      "text/plain": [
       "\"Admission(school='Cool School', program='Haskell', name='Ada Lovelace', accept=True\""
      ]
     },
     "execution_count": 18,
     "metadata": {},
     "output_type": "execute_result"
    }
   ],
   "source": [
    "repr(student3)"
   ]
  },
  {
   "cell_type": "code",
   "execution_count": 19,
   "metadata": {},
   "outputs": [
    {
     "data": {
      "text/plain": [
       "\"Admission(school='Cool School', program='Haskell', name='Ada Lovelace', accept=True\""
      ]
     },
     "execution_count": 19,
     "metadata": {},
     "output_type": "execute_result"
    }
   ],
   "source": [
    "str(student3)"
   ]
  },
  {
   "cell_type": "markdown",
   "metadata": {},
   "source": [
    "### Documentations\n",
    "* docstring\n",
    "* type hinting"
   ]
  },
  {
   "cell_type": "code",
   "execution_count": 20,
   "metadata": {},
   "outputs": [
    {
     "data": {
      "text/plain": [
       "Student(name = 'Gore Board', age = 55, active= True"
      ]
     },
     "execution_count": 20,
     "metadata": {},
     "output_type": "execute_result"
    }
   ],
   "source": [
    "class Student:\n",
    "    def __init__(self, name: str, age: int, active: bool) -> None:\n",
    "        self.name = name\n",
    "        self.age = age\n",
    "        self.active = active\n",
    "    \n",
    "    def __repr__(self) -> str:\n",
    "        return f\"Student(name = '{self.name}', age = {self.age}, active= {self.active}\"\n",
    "    \n",
    "s1 = Student(\"Gore Board\", 55, True)\n",
    "s1\n",
    "    "
   ]
  }
 ],
 "metadata": {
  "kernelspec": {
   "display_name": ".venv",
   "language": "python",
   "name": "python3"
  },
  "language_info": {
   "codemirror_mode": {
    "name": "ipython",
    "version": 3
   },
   "file_extension": ".py",
   "mimetype": "text/x-python",
   "name": "python",
   "nbconvert_exporter": "python",
   "pygments_lexer": "ipython3",
   "version": "3.12.5"
  }
 },
 "nbformat": 4,
 "nbformat_minor": 2
}
