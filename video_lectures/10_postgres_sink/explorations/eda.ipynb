{
 "cells": [
  {
   "cell_type": "markdown",
   "metadata": {},
   "source": [
    "# EDA on crypto API"
   ]
  },
  {
   "cell_type": "code",
   "execution_count": 5,
   "metadata": {},
   "outputs": [
    {
     "data": {
      "text/plain": [
       "{'BTC': {'id': 1,\n",
       "  'name': 'Bitcoin',\n",
       "  'symbol': 'BTC',\n",
       "  'slug': 'bitcoin',\n",
       "  'num_market_pairs': 11928,\n",
       "  'date_added': '2010-07-13T00:00:00.000Z',\n",
       "  'tags': ['mineable',\n",
       "   'pow',\n",
       "   'sha-256',\n",
       "   'store-of-value',\n",
       "   'state-channel',\n",
       "   'coinbase-ventures-portfolio',\n",
       "   'three-arrows-capital-portfolio',\n",
       "   'polychain-capital-portfolio',\n",
       "   'binance-labs-portfolio',\n",
       "   'blockchain-capital-portfolio',\n",
       "   'boostvc-portfolio',\n",
       "   'cms-holdings-portfolio',\n",
       "   'dcg-portfolio',\n",
       "   'dragonfly-capital-portfolio',\n",
       "   'electric-capital-portfolio',\n",
       "   'fabric-ventures-portfolio',\n",
       "   'framework-ventures-portfolio',\n",
       "   'galaxy-digital-portfolio',\n",
       "   'huobi-capital-portfolio',\n",
       "   'alameda-research-portfolio',\n",
       "   'a16z-portfolio',\n",
       "   '1confirmation-portfolio',\n",
       "   'winklevoss-capital-portfolio',\n",
       "   'usv-portfolio',\n",
       "   'placeholder-ventures-portfolio',\n",
       "   'pantera-capital-portfolio',\n",
       "   'multicoin-capital-portfolio',\n",
       "   'paradigm-portfolio',\n",
       "   'bitcoin-ecosystem',\n",
       "   'ftx-bankruptcy-estate',\n",
       "   '2017-2018-alt-season'],\n",
       "  'max_supply': 21000000,\n",
       "  'circulating_supply': 19821000,\n",
       "  'total_supply': 19821000,\n",
       "  'is_active': 1,\n",
       "  'infinite_supply': False,\n",
       "  'platform': None,\n",
       "  'cmc_rank': 1,\n",
       "  'is_fiat': 0,\n",
       "  'self_reported_circulating_supply': None,\n",
       "  'self_reported_market_cap': None,\n",
       "  'tvl_ratio': None,\n",
       "  'last_updated': '2025-02-07T14:53:00.000Z',\n",
       "  'quote': {'USD': {'price': 100085.95377609757,\n",
       "    'volume_24h': 51506910434.57284,\n",
       "    'volume_change_24h': 13.2037,\n",
       "    'percent_change_1h': 1.38078149,\n",
       "    'percent_change_24h': 2.04894567,\n",
       "    'percent_change_7d': -4.13290081,\n",
       "    'percent_change_30d': 5.28964506,\n",
       "    'percent_change_60d': -0.11035744,\n",
       "    'percent_change_90d': 31.08645188,\n",
       "    'market_cap': 1983803689796.0298,\n",
       "    'market_cap_dominance': 60.7381,\n",
       "    'fully_diluted_market_cap': 2101805029298.05,\n",
       "    'tvl': None,\n",
       "    'last_updated': '2025-02-07T14:53:00.000Z'}}}}"
      ]
     },
     "execution_count": 5,
     "metadata": {},
     "output_type": "execute_result"
    }
   ],
   "source": [
    "from requests import Request, Session\n",
    "from requests.exceptions import ConnectionError, Timeout, TooManyRedirects\n",
    "import json\n",
    "from dotenv import load_dotenv\n",
    "import os\n",
    "\n",
    "load_dotenv()\n",
    "\n",
    "# POSTGRES_HOST= \"localhost\"\n",
    "# POSTGRES_USER=\"postgres\"\n",
    "# POSTGRES_PASSWORD=\"korvkaka123\"\n",
    "# POSTGRES_DB=\"coins_db\"\n",
    "# POSTGRES_PORT=\"5432\"\n",
    "\n",
    "target_symbol = \"BTC\"\n",
    "API_KEY = os.getenv(\"COINMARKET_API\")\n",
    "\n",
    "url = 'https://pro-api.coinmarketcap.com/v1/cryptocurrency/quotes/latest'\n",
    "parameters = {\n",
    "  'symbol': target_symbol,\n",
    "  'convert':'USD'\n",
    "}\n",
    "headers = {\n",
    "  'Accepts': 'application/json',\n",
    "  'X-CMC_PRO_API_KEY': API_KEY,\n",
    "}\n",
    "\n",
    "session = Session()\n",
    "session.headers.update(headers)\n",
    "\n",
    "try:\n",
    "  response = session.get(url, params=parameters)\n",
    "  data = json.loads(response.text)[\"data\"]\n",
    "except (ConnectionError, Timeout, TooManyRedirects) as e:\n",
    "  print(e)\n",
    "\n",
    "data"
   ]
  },
  {
   "cell_type": "code",
   "execution_count": 6,
   "metadata": {},
   "outputs": [
    {
     "data": {
      "text/plain": [
       "dict_keys(['BTC'])"
      ]
     },
     "execution_count": 6,
     "metadata": {},
     "output_type": "execute_result"
    }
   ],
   "source": [
    "data.keys()"
   ]
  },
  {
   "cell_type": "code",
   "execution_count": 7,
   "metadata": {},
   "outputs": [
    {
     "data": {
      "text/plain": [
       "dict_keys(['id', 'name', 'symbol', 'slug', 'num_market_pairs', 'date_added', 'tags', 'max_supply', 'circulating_supply', 'total_supply', 'is_active', 'infinite_supply', 'platform', 'cmc_rank', 'is_fiat', 'self_reported_circulating_supply', 'self_reported_market_cap', 'tvl_ratio', 'last_updated', 'quote'])"
      ]
     },
     "execution_count": 7,
     "metadata": {},
     "output_type": "execute_result"
    }
   ],
   "source": [
    "data[\"BTC\"].keys()"
   ]
  },
  {
   "cell_type": "code",
   "execution_count": 10,
   "metadata": {},
   "outputs": [
    {
     "data": {
      "text/plain": [
       "('Bitcoin', 'BTC', '2010-07-13T00:00:00.000Z', 'bitcoin')"
      ]
     },
     "execution_count": 10,
     "metadata": {},
     "output_type": "execute_result"
    }
   ],
   "source": [
    "btc_data = data[\"BTC\"]\n",
    "btc_data[\"name\"], btc_data[\"symbol\"], btc_data[\"date_added\"], btc_data[\"slug\"]"
   ]
  },
  {
   "cell_type": "code",
   "execution_count": 11,
   "metadata": {},
   "outputs": [
    {
     "data": {
      "text/plain": [
       "{'USD': {'price': 100085.95377609757,\n",
       "  'volume_24h': 51506910434.57284,\n",
       "  'volume_change_24h': 13.2037,\n",
       "  'percent_change_1h': 1.38078149,\n",
       "  'percent_change_24h': 2.04894567,\n",
       "  'percent_change_7d': -4.13290081,\n",
       "  'percent_change_30d': 5.28964506,\n",
       "  'percent_change_60d': -0.11035744,\n",
       "  'percent_change_90d': 31.08645188,\n",
       "  'market_cap': 1983803689796.0298,\n",
       "  'market_cap_dominance': 60.7381,\n",
       "  'fully_diluted_market_cap': 2101805029298.05,\n",
       "  'tvl': None,\n",
       "  'last_updated': '2025-02-07T14:53:00.000Z'}}"
      ]
     },
     "execution_count": 11,
     "metadata": {},
     "output_type": "execute_result"
    }
   ],
   "source": [
    "btc_data[\"quote\"]"
   ]
  },
  {
   "cell_type": "code",
   "execution_count": 12,
   "metadata": {},
   "outputs": [
    {
     "data": {
      "text/plain": [
       "100085.95377609757"
      ]
     },
     "execution_count": 12,
     "metadata": {},
     "output_type": "execute_result"
    }
   ],
   "source": [
    "quote = btc_data[\"quote\"]\n",
    "quote[\"USD\"][\"price\"]"
   ]
  }
 ],
 "metadata": {
  "kernelspec": {
   "display_name": ".venv",
   "language": "python",
   "name": "python3"
  },
  "language_info": {
   "codemirror_mode": {
    "name": "ipython",
    "version": 3
   },
   "file_extension": ".py",
   "mimetype": "text/x-python",
   "name": "python",
   "nbconvert_exporter": "python",
   "pygments_lexer": "ipython3",
   "version": "3.12.5"
  }
 },
 "nbformat": 4,
 "nbformat_minor": 2
}
